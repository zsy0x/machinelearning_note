{
 "cells": [
  {
   "cell_type": "code",
   "execution_count": 1,
   "id": "0d20410b",
   "metadata": {
    "ExecuteTime": {
     "end_time": "2023-08-04T09:25:40.595418Z",
     "start_time": "2023-08-04T09:25:39.968681Z"
    }
   },
   "outputs": [],
   "source": [
    "# 数据处理所需的库\n",
    "import random\n",
    "import numpy as np\n",
    "import pandas as pd\n",
    "\n",
    "# 数据可视化所需的库\n",
    "import matplotlib.pyplot as plt\n",
    "from matplotlib.colors import ListedColormap\n",
    "plt.rcParams['font.sans-serif'] = 'SimHei'\n",
    "plt.rcParams['axes.unicode_minus'] = False\n",
    "\n",
    "# 机器学习预处理所需的库 \n",
    "from sklearn.datasets import load_iris\n",
    "from sklearn.model_selection import train_test_split\n",
    "from sklearn.model_selection import GridSearchCV\n",
    "from sklearn.preprocessing import StandardScaler\n",
    "from sklearn.decomposition import PCA\n",
    "\n",
    "# 机器学习算法所需的库\n",
    "from sklearn.neighbors import KNeighborsClassifier\n",
    "from sklearn.naive_bayes import GaussianNB\n",
    "from sklearn.svm import SVC\n",
    "from sklearn.tree import DecisionTreeClassifier\n",
    "from sklearn import tree\n",
    "from sklearn.tree import export_graphviz\n",
    "import graphviz\n",
    "from xgboost import XGBClassifier\n",
    "from sklearn.ensemble import RandomForestClassifier\n",
    "from sklearn.linear_model import LogisticRegression\n",
    "\n",
    "# 机器学习评价指标所需的库\n",
    "from sklearn import metrics\n",
    "from sklearn.metrics import confusion_matrix, precision_score, recall_score, f1_score, roc_curve, auc, roc_auc_score, r2_score \n",
    "from sklearn.metrics import classification_report\n",
    "\n",
    "# 其他所需的库\n",
    "import warnings\n",
    "warnings.filterwarnings('ignore')"
   ]
  },
  {
   "cell_type": "markdown",
   "id": "b7ab60fd",
   "metadata": {},
   "source": [
    "# 划分训练测试验证集"
   ]
  },
  {
   "cell_type": "code",
   "execution_count": 2,
   "id": "07b878d6",
   "metadata": {},
   "outputs": [],
   "source": [
    "data = load_iris()\n",
    "x_train, x_test, y_train, y_test = train_test_split(\n",
    "    data['data'], data['target'], test_size=0.2, random_state=2\n",
    ")"
   ]
  },
  {
   "cell_type": "markdown",
   "id": "afb0dd78",
   "metadata": {},
   "source": [
    "# KNN"
   ]
  },
  {
   "cell_type": "markdown",
   "id": "baffdaa0",
   "metadata": {},
   "source": [
    "## 验证集调节超参数\n",
    "\n",
    "&emsp;&emsp;**网格搜索搜不出来超参数时，就用验证集调节超参数。**"
   ]
  },
  {
   "cell_type": "code",
   "execution_count": 3,
   "id": "391e28f8",
   "metadata": {
    "scrolled": true
   },
   "outputs": [
    {
     "name": "stdout",
     "output_type": "stream",
     "text": [
      "邻居数目为： 1\n",
      "分类结果为： [1 2 2 0 0 1 1 2 1 0 2 1 1 2 0 2 0 1 0 1 0 2 1 0]\n",
      "训练集精度为： 1.0\n",
      "验证集精度为： 0.9583333333333334\n",
      "邻居数目为： 2\n",
      "分类结果为： [1 2 2 0 0 1 1 2 1 0 2 1 1 2 0 2 0 1 0 1 0 2 1 0]\n",
      "训练集精度为： 0.96875\n",
      "验证集精度为： 0.9583333333333334\n",
      "邻居数目为： 3\n",
      "分类结果为： [1 2 2 0 0 1 1 2 1 0 2 1 1 2 0 2 0 1 0 1 0 2 1 0]\n",
      "训练集精度为： 0.9479166666666666\n",
      "验证集精度为： 0.9583333333333334\n",
      "邻居数目为： 4\n",
      "分类结果为： [1 2 2 0 0 1 1 2 1 0 2 1 1 2 0 2 0 1 0 1 0 2 1 0]\n",
      "训练集精度为： 0.96875\n",
      "验证集精度为： 0.9583333333333334\n",
      "邻居数目为： 5\n",
      "分类结果为： [1 2 2 0 0 1 1 2 1 0 2 1 1 2 0 2 0 1 0 1 0 2 1 0]\n",
      "训练集精度为： 0.9479166666666666\n",
      "验证集精度为： 0.9583333333333334\n",
      "邻居数目为： 6\n",
      "分类结果为： [1 2 2 0 0 1 1 2 1 0 2 1 1 2 0 2 0 1 0 1 0 2 1 0]\n",
      "训练集精度为： 0.9583333333333334\n",
      "验证集精度为： 0.9583333333333334\n",
      "邻居数目为： 7\n",
      "分类结果为： [1 2 2 0 0 1 2 2 1 0 2 1 1 2 0 2 0 1 0 1 0 2 1 0]\n",
      "训练集精度为： 0.96875\n",
      "验证集精度为： 1.0\n",
      "邻居数目为： 8\n",
      "分类结果为： [1 2 2 0 0 1 2 2 1 0 2 1 1 2 0 2 0 1 0 1 0 2 1 0]\n",
      "训练集精度为： 0.96875\n",
      "验证集精度为： 1.0\n",
      "邻居数目为： 9\n",
      "分类结果为： [1 2 2 0 0 1 2 2 1 0 2 1 1 2 0 2 0 1 0 1 0 2 1 0]\n",
      "训练集精度为： 0.96875\n",
      "验证集精度为： 1.0\n"
     ]
    }
   ],
   "source": [
    "x_train1, x_valid, y_train1, y_valid = train_test_split(\n",
    "    x_train, y_train, test_size=0.2, random_state=2\n",
    ")\n",
    "for neighbor_num in range(1, 10):\n",
    "    model = KNeighborsClassifier(n_neighbors=neighbor_num)\n",
    "    model.fit(x_train1, y_train1)\n",
    "    y_pred = model.predict(x_valid)\n",
    "    print('邻居数目为：', neighbor_num)\n",
    "    print('分类结果为：', y_pred)\n",
    "    print('训练集精度为：', model.score(x_train1, y_train1))\n",
    "    print('验证集精度为：', model.score(x_valid, y_valid))"
   ]
  },
  {
   "cell_type": "markdown",
   "id": "05345f2d",
   "metadata": {},
   "source": [
    "## 分类结果和精度"
   ]
  },
  {
   "cell_type": "code",
   "execution_count": 4,
   "id": "d4f6d1b2",
   "metadata": {},
   "outputs": [
    {
     "name": "stdout",
     "output_type": "stream",
     "text": [
      "分类结果为： [0 0 2 0 0 2 0 2 2 0 0 0 0 0 1 1 0 1 2 1 2 1 2 1 1 0 0 2 0 2]\n",
      "训练集精度为： 0.975\n",
      "测试集精度为： 0.9666666666666667\n"
     ]
    }
   ],
   "source": [
    "model = KNeighborsClassifier(n_neighbors=7)\n",
    "model.fit(x_train, y_train)\n",
    "y_pred = model.predict(x_test)\n",
    "print('分类结果为：', y_pred)\n",
    "print('训练集精度为：', model.score(x_train, y_train))\n",
    "print('测试集精度为：', model.score(x_test, y_test))"
   ]
  },
  {
   "cell_type": "markdown",
   "id": "1b141ba5",
   "metadata": {},
   "source": [
    "## 评价指标"
   ]
  },
  {
   "cell_type": "code",
   "execution_count": 5,
   "id": "32461137",
   "metadata": {},
   "outputs": [
    {
     "name": "stdout",
     "output_type": "stream",
     "text": [
      "模型的R方值： 0.951923076923077\n",
      "模型混淆矩阵: \n",
      " [[14  0  0]\n",
      " [ 0  7  1]\n",
      " [ 0  0  8]]\n",
      "模型分类报告: \n",
      "               precision    recall  f1-score   support\n",
      "\n",
      "           0       1.00      1.00      1.00        14\n",
      "           1       1.00      0.88      0.93         8\n",
      "           2       0.89      1.00      0.94         8\n",
      "\n",
      "    accuracy                           0.97        30\n",
      "   macro avg       0.96      0.96      0.96        30\n",
      "weighted avg       0.97      0.97      0.97        30\n",
      "\n"
     ]
    }
   ],
   "source": [
    "print('模型的R方值：',r2_score(y_test,y_pred))\n",
    "print('模型混淆矩阵:','\\n',confusion_matrix(y_test,y_pred))\n",
    "print('模型分类报告:','\\n',classification_report(y_test,y_pred))"
   ]
  },
  {
   "cell_type": "markdown",
   "id": "e883cdf2",
   "metadata": {},
   "source": [
    "# 朴素贝叶斯\n",
    "\n",
    "一般来说，如果样本特征的分布大部分是连续值且服从高斯分布，使用GaussianNB会比较好\n",
    "\n",
    "如果样本特征的分布大部分是多元离散值，使用MultinomialNB会比较好\n",
    "\n",
    "如果样本特征的分布是二元离散值或者很稀疏的多元离散值，应该使用BernoulliNB"
   ]
  },
  {
   "cell_type": "markdown",
   "id": "4dd69be3",
   "metadata": {},
   "source": [
    "## 分类结果和精度"
   ]
  },
  {
   "cell_type": "code",
   "execution_count": 6,
   "id": "4bf97922",
   "metadata": {},
   "outputs": [
    {
     "name": "stdout",
     "output_type": "stream",
     "text": [
      "分类结果为： [0 0 2 0 0 2 0 2 2 0 0 0 0 0 1 1 0 1 2 1 2 1 2 1 1 0 0 2 0 2]\n",
      "训练集精度为： 0.95\n",
      "测试集精度为： 0.9666666666666667\n"
     ]
    }
   ],
   "source": [
    "model = GaussianNB()    \n",
    "model.fit(x_train, y_train)\n",
    "y_pred = model.predict(x_test)\n",
    "print('分类结果为：', y_pred)\n",
    "print('训练集精度为：', model.score(x_train, y_train))\n",
    "print('测试集精度为：', model.score(x_test, y_test))"
   ]
  },
  {
   "cell_type": "markdown",
   "id": "3dec2379",
   "metadata": {},
   "source": [
    "## 评价指标"
   ]
  },
  {
   "cell_type": "code",
   "execution_count": 7,
   "id": "fb7f4bee",
   "metadata": {},
   "outputs": [
    {
     "name": "stdout",
     "output_type": "stream",
     "text": [
      "模型的R方值： 0.951923076923077\n",
      "模型混淆矩阵: \n",
      " [[14  0  0]\n",
      " [ 0  7  1]\n",
      " [ 0  0  8]]\n",
      "模型分类报告: \n",
      "               precision    recall  f1-score   support\n",
      "\n",
      "           0       1.00      1.00      1.00        14\n",
      "           1       1.00      0.88      0.93         8\n",
      "           2       0.89      1.00      0.94         8\n",
      "\n",
      "    accuracy                           0.97        30\n",
      "   macro avg       0.96      0.96      0.96        30\n",
      "weighted avg       0.97      0.97      0.97        30\n",
      "\n"
     ]
    }
   ],
   "source": [
    "print('模型的R方值：',r2_score(y_test,y_pred))\n",
    "print('模型混淆矩阵:','\\n',confusion_matrix(y_test,y_pred))\n",
    "print('模型分类报告:','\\n',classification_report(y_test,y_pred))"
   ]
  },
  {
   "cell_type": "markdown",
   "id": "7f408cd2",
   "metadata": {},
   "source": [
    "# 支持向量机\n",
    "\n",
    "不同核函数:\n",
    "如何选择适合您的数据集的最佳核函数完全取决于您实际解决的问题。如果您的数据能够被线性分割，那么毫无疑问，选择线性核函\n",
    "数是一个不错的选择，因为它需要更少的训练时间，并在文本分类等大型数据集处理方面表现出色。另一方面，当数据缺乏额外信息\n",
    "或不可用时，高斯核函数通常能够提供出色的结果。RBF核函数也是高斯核函数的一种，它通过将高维数据映射后，在其中寻找线性分\n",
    "割。对于已经归一化的所有训练数据，多项式核函数通常能够产生出色的结果。"
   ]
  },
  {
   "cell_type": "markdown",
   "id": "e276c0ec",
   "metadata": {},
   "source": [
    "## 网格搜索超参数"
   ]
  },
  {
   "cell_type": "code",
   "execution_count": 8,
   "id": "09e01b29",
   "metadata": {
    "scrolled": true
   },
   "outputs": [
    {
     "data": {
      "text/plain": [
       "{'C': 0.1}"
      ]
     },
     "execution_count": 8,
     "metadata": {},
     "output_type": "execute_result"
    }
   ],
   "source": [
    "data = load_iris()\n",
    "X = data['data']\n",
    "y = data['target']\n",
    "# 二分类问题\n",
    "setosa_or_versicolor = (y == 0) | (y == 1)\n",
    "X = X[setosa_or_versicolor]\n",
    "y = y[setosa_or_versicolor]\n",
    "x_train_svc, x_test_svc, y_train_svc, y_test_svc = train_test_split(\n",
    "    X, y, test_size=0.2, random_state=2\n",
    ")\n",
    "\n",
    "model = SVC(probability=True, random_state=42)\n",
    "param_grid = [{'C':np.arange(0.1, 10, 0.1)}]\n",
    "# cv表示交叉验证的次数，scoring表示评价指标，分类可以选'accuracy'，'precision'，'recall'，'f1'，'roc_auc'，回归选neg_mean_squared_error\n",
    "grid_search = GridSearchCV(model, param_grid, cv=5, scoring='roc_auc', return_train_score=True)\n",
    "grid_search.fit(x_train_svc, y_train_svc)\n",
    "grid_search.best_params_"
   ]
  },
  {
   "cell_type": "markdown",
   "id": "c7344aef",
   "metadata": {},
   "source": [
    "## 分类结果和精度"
   ]
  },
  {
   "cell_type": "code",
   "execution_count": 9,
   "id": "4b6eb679",
   "metadata": {},
   "outputs": [
    {
     "name": "stdout",
     "output_type": "stream",
     "text": [
      "分类结果为： [1 0 1 0 0 0 0 0 0 0 1 1 1 0 0 0 0 0 1 1]\n",
      "训练集精度为： 1.0\n",
      "测试集精度为： 1.0\n"
     ]
    }
   ],
   "source": [
    "model = SVC(C=grid_search.best_params_['C'],probability=True, random_state=42)\n",
    "model.fit(x_train_svc, y_train_svc)\n",
    "y_pred = model.predict(x_test_svc)\n",
    "print('分类结果为：', y_pred)\n",
    "print('训练集精度为：', model.score(x_train_svc, y_train_svc))\n",
    "print('测试集精度为：', model.score(x_test_svc, y_test_svc))"
   ]
  },
  {
   "cell_type": "markdown",
   "id": "638607de",
   "metadata": {},
   "source": [
    "## 评价指标"
   ]
  },
  {
   "cell_type": "code",
   "execution_count": 10,
   "id": "6dc4da5d",
   "metadata": {},
   "outputs": [
    {
     "name": "stdout",
     "output_type": "stream",
     "text": [
      "模型的R方值： 1.0\n",
      "模型混淆矩阵: \n",
      " [[13  0]\n",
      " [ 0  7]]\n",
      "模型分类报告: \n",
      "               precision    recall  f1-score   support\n",
      "\n",
      "           0       1.00      1.00      1.00        13\n",
      "           1       1.00      1.00      1.00         7\n",
      "\n",
      "    accuracy                           1.00        20\n",
      "   macro avg       1.00      1.00      1.00        20\n",
      "weighted avg       1.00      1.00      1.00        20\n",
      "\n"
     ]
    }
   ],
   "source": [
    "print('模型的R方值：',r2_score(y_test_svc,y_pred))\n",
    "print('模型混淆矩阵:','\\n',confusion_matrix(y_test_svc,y_pred))\n",
    "print('模型分类报告:','\\n',classification_report(y_test_svc,y_pred))"
   ]
  },
  {
   "cell_type": "code",
   "execution_count": 11,
   "id": "91e1c757",
   "metadata": {},
   "outputs": [
    {
     "name": "stdout",
     "output_type": "stream",
     "text": [
      "AUC: 1.00\n"
     ]
    },
    {
     "data": {
      "image/png": "[encoded data removed]",
      "text/plain": [
       "<Figure size 720x360 with 1 Axes>"
      ]
     },
     "metadata": {
      "needs_background": "light"
     },
     "output_type": "display_data"
    },
    {
     "data": {
      "image/png": "[encoded data removed]",
      "text/plain": [
       "<Figure size 720x360 with 1 Axes>"
      ]
     },
     "metadata": {
      "needs_background": "light"
     },
     "output_type": "display_data"
    }
   ],
   "source": [
    "# 预测概率  \n",
    "y_pred_prob = model.predict_proba(x_test_svc)[:,1]\n",
    "\n",
    "# 计算PR曲线的指标  \n",
    "precision, recall, thresholds = metrics.precision_recall_curve(y_test_svc, y_pred_prob)  \n",
    "  \n",
    "# 计算ROC曲线的指标  \n",
    "fpr, tpr, thresholds_roc = metrics.roc_curve(y_test_svc, y_pred_prob)  \n",
    "# 计算AUC值  \n",
    "auc = metrics.auc(fpr, tpr)  \n",
    "print('AUC: %.2f' % auc)\n",
    "  \n",
    "# 绘制PR曲线  \n",
    "plt.figure(figsize=(10, 5))  \n",
    "plt.plot(recall, precision, color='b', label='PR Curve')  \n",
    "plt.xlabel('Recall')  \n",
    "plt.ylabel('Precision')  \n",
    "plt.ylim([0.0, 1.05])  \n",
    "plt.xlim([0.0, 1.0])  \n",
    "plt.title('Precision-Recall Curve')  \n",
    "plt.legend(loc=\"lower left\")  \n",
    "plt.show()  \n",
    "  \n",
    "# 绘制ROC曲线  \n",
    "plt.figure(figsize=(10, 5))  \n",
    "plt.plot(fpr, tpr, color='darkorange', lw=2, label='ROC curve (area = %0.2f)' % metrics.auc(fpr, tpr))  \n",
    "plt.plot([0, 1], [0, 1], color='navy', lw=2, linestyle='--')  \n",
    "plt.xlim([0.0, 1.0])  \n",
    "plt.ylim([0.0, 1.05])  \n",
    "plt.xlabel('False Positive Rate')  \n",
    "plt.ylabel('True Positive Rate')  \n",
    "plt.title('Receiver Operating Characteristic Curve')  \n",
    "plt.legend(loc=\"lower right\")  \n",
    "plt.show()"
   ]
  },
  {
   "cell_type": "markdown",
   "id": "e7e85e08",
   "metadata": {},
   "source": [
    "# 决策树"
   ]
  },
  {
   "cell_type": "markdown",
   "id": "034167ec",
   "metadata": {},
   "source": [
    "## 网格搜索超参数"
   ]
  },
  {
   "cell_type": "code",
   "execution_count": 12,
   "id": "86410b2b",
   "metadata": {},
   "outputs": [
    {
     "data": {
      "text/plain": [
       "{'max_depth': 1}"
      ]
     },
     "execution_count": 12,
     "metadata": {},
     "output_type": "execute_result"
    }
   ],
   "source": [
    "data = load_iris()\n",
    "X = data['data'][:, 2:]\n",
    "y = data['target']\n",
    "x_train_tree, x_test_tree, y_train_tree, y_test_tree = train_test_split(\n",
    "    X, y, test_size=0.2, random_state=2\n",
    ")\n",
    "\n",
    "model =  DecisionTreeClassifier()\n",
    "param_grid = [{'max_depth':np.arange(1, 10, 1)}]\n",
    "# cv表示交叉验证的次数，scoring表示评价指标，分类可以选'accuracy'，'precision'，'recall'，'f1'，'roc_auc'，回归选neg_mean_squared_error\n",
    "grid_search = GridSearchCV(model, param_grid, cv=5, scoring='roc_auc', return_train_score=True)\n",
    "grid_search.fit(x_train_tree, y_train_tree)\n",
    "grid_search.best_params_"
   ]
  },
  {
   "cell_type": "markdown",
   "id": "5029114d",
   "metadata": {},
   "source": [
    "## 分类结果和精度"
   ]
  },
  {
   "cell_type": "code",
   "execution_count": 13,
   "id": "8f06f13c",
   "metadata": {},
   "outputs": [
    {
     "name": "stdout",
     "output_type": "stream",
     "text": [
      "分类结果为： [0 0 1 0 0 1 0 1 1 0 0 0 0 0 1 1 0 1 1 1 1 1 1 1 1 0 0 1 0 1]\n",
      "训练集精度为： 0.65\n",
      "测试集精度为： 0.7333333333333333\n"
     ]
    }
   ],
   "source": [
    "model =  DecisionTreeClassifier(max_depth=grid_search.best_params_['max_depth'], random_state=42)\n",
    "model.fit(x_train_tree, y_train_tree)\n",
    "y_pred = model.predict(x_test_tree)\n",
    "print('分类结果为：', y_pred)\n",
    "print('训练集精度为：', model.score(x_train_tree, y_train_tree))\n",
    "print('测试集精度为：', model.score(x_test_tree, y_test_tree))"
   ]
  },
  {
   "cell_type": "markdown",
   "id": "f54c952a",
   "metadata": {},
   "source": [
    "## 评价指标"
   ]
  },
  {
   "cell_type": "code",
   "execution_count": 14,
   "id": "aa309b94",
   "metadata": {},
   "outputs": [
    {
     "name": "stdout",
     "output_type": "stream",
     "text": [
      "模型的R方值： 0.6153846153846154\n",
      "模型混淆矩阵: \n",
      " [[14  0  0]\n",
      " [ 0  8  0]\n",
      " [ 0  8  0]]\n",
      "模型分类报告: \n",
      "               precision    recall  f1-score   support\n",
      "\n",
      "           0       1.00      1.00      1.00        14\n",
      "           1       0.50      1.00      0.67         8\n",
      "           2       0.00      0.00      0.00         8\n",
      "\n",
      "    accuracy                           0.73        30\n",
      "   macro avg       0.50      0.67      0.56        30\n",
      "weighted avg       0.60      0.73      0.64        30\n",
      "\n"
     ]
    }
   ],
   "source": [
    "print('模型的R方值：',r2_score(y_test_tree,y_pred))\n",
    "print('模型混淆矩阵:','\\n',confusion_matrix(y_test_tree,y_pred))\n",
    "print('模型分类报告:','\\n',classification_report(y_test_tree,y_pred))"
   ]
  },
  {
   "cell_type": "markdown",
   "id": "ff5037e4",
   "metadata": {},
   "source": [
    "## 可视化决策树"
   ]
  },
  {
   "cell_type": "code",
   "execution_count": 15,
   "id": "f46b73f2",
   "metadata": {},
   "outputs": [],
   "source": [
    "# tree_data=tree.export_graphviz(model,\n",
    "#                                feature_names=data.feature_names[2:]\n",
    "#                                ,class_names=data.target_names\n",
    "#                                ,filled=True\n",
    "#                                ,rounded=True)\n",
    "# graph=graphviz.Source(tree_data)\n",
    "# graph.view()"
   ]
  },
  {
   "cell_type": "markdown",
   "id": "fa8c5086",
   "metadata": {},
   "source": [
    "## 特征重要性"
   ]
  },
  {
   "cell_type": "code",
   "execution_count": 16,
   "id": "dc9b58ef",
   "metadata": {},
   "outputs": [
    {
     "name": "stdout",
     "output_type": "stream",
     "text": [
      "[('petal length (cm)', 1.0), ('petal width (cm)', 0.0)]\n"
     ]
    },
    {
     "data": {
      "image/png": "[encoded data removed]",
      "text/plain": [
       "<Figure size 432x288 with 1 Axes>"
      ]
     },
     "metadata": {
      "needs_background": "light"
     },
     "output_type": "display_data"
    }
   ],
   "source": [
    "print([*zip(data.feature_names[2:],model.feature_importances_)])\n",
    "\n",
    "import scikitplot as skplt\n",
    "skplt.estimators.plot_feature_importances(\n",
    "     model,feature_names=data.feature_names[2:])\n",
    "plt.show()"
   ]
  },
  {
   "cell_type": "markdown",
   "id": "382cb3c9",
   "metadata": {},
   "source": [
    "## 二维决策边界"
   ]
  },
  {
   "cell_type": "code",
   "execution_count": 17,
   "id": "dedd4ed7",
   "metadata": {},
   "outputs": [
    {
     "data": {
      "image/png": "[encoded data removed]",
      "text/plain": [
       "<Figure size 720x288 with 1 Axes>"
      ]
     },
     "metadata": {
      "needs_background": "light"
     },
     "output_type": "display_data"
    }
   ],
   "source": [
    "data = load_iris()\n",
    "X = data['data'][:, 2:]\n",
    "y = data['target']\n",
    "x0, x1 = np.meshgrid(\n",
    "        np.linspace(0, 8, 500).reshape(-1, 1),\n",
    "        np.linspace(0, 3.5, 200).reshape(-1, 1),\n",
    "    )\n",
    "X_new = np.c_[x0.ravel(), x1.ravel()]\n",
    "y_predict = model.predict(X_new)\n",
    "\n",
    "# 实例实际位置\n",
    "plt.figure(figsize=(10, 4))\n",
    "plt.plot(X[y==2, 0], X[y==2, 1], \"g^\", label=\"Iris virginica\")\n",
    "plt.plot(X[y==1, 0], X[y==1, 1], \"bs\", label=\"Iris versicolor\")\n",
    "plt.plot(X[y==0, 0], X[y==0, 1], \"yo\", label=\"Iris setosa\")\n",
    "\n",
    "# 画等高线（带填充）\n",
    "custom_cmap = ListedColormap(['#fafab0','#9898ff','#a0faa0'])\n",
    "zz = y_predict.reshape(x0.shape)\n",
    "plt.contourf(x0, x1, zz, cmap=custom_cmap)\n",
    "\n",
    "plt.plot([0, 7.5], [0.8, 0.8], \"k-\", linewidth=2, label='depth0')\n",
    "plt.plot([0, 7.5], [1.75, 1.75], \"k--\", linewidth=2, label='depth1')\n",
    "\n",
    "plt.xlabel(\"Petal length\", fontsize=14)\n",
    "plt.ylabel(\"Petal width\", fontsize=14)\n",
    "plt.legend(loc=\"center left\", fontsize=14)\n",
    "plt.axis([0, 7, 0, 3.5])\n",
    "plt.show()\n",
    "# 首先第1个条件确定的决策左区域是纯的，所以不需要再分；决策右侧区域是不纯的，所以需要根据第2个条件再次划分。"
   ]
  },
  {
   "cell_type": "markdown",
   "id": "2e697404",
   "metadata": {},
   "source": [
    "# 集成学习"
   ]
  },
  {
   "cell_type": "markdown",
   "id": "cd615ca7",
   "metadata": {},
   "source": [
    "## XGB"
   ]
  },
  {
   "cell_type": "markdown",
   "id": "7bb7cf60",
   "metadata": {},
   "source": [
    "### 网格搜索超参数"
   ]
  },
  {
   "cell_type": "code",
   "execution_count": 18,
   "id": "a350f343",
   "metadata": {},
   "outputs": [
    {
     "data": {
      "text/plain": [
       "{'learning_rate': 0.001, 'max_depth': 1, 'n_estimators': 3}"
      ]
     },
     "execution_count": 18,
     "metadata": {},
     "output_type": "execute_result"
    }
   ],
   "source": [
    "model = XGBClassifier()\n",
    "\n",
    "# 可以通过print(XGBClassifier.__doc__) 查看文档\n",
    "param_grid = [\n",
    "    {'n_estimators':[3,10,30], 'max_depth':[1,2,3,4,5], 'learning_rate':[0.001,0.003,0.01]},\n",
    "    {'bootstrap':[False],'n_estimators':[3,10], 'max_depth':[1,2,3,4,5], 'learning_rate':[0.005,0.03]}\n",
    "]\n",
    "# cv表示交叉验证的次数，scoring表示评价指标，分类可以选'accuracy'，'precision'，'recall'，'f1'，'roc_auc'，回归选neg_mean_squared_error\n",
    "grid_search = GridSearchCV(model, param_grid, cv=5, scoring='roc_auc', return_train_score=True)\n",
    "grid_search.fit(x_train, y_train)\n",
    "# # 输出最优超参数组合\n",
    "grid_search.best_params_"
   ]
  },
  {
   "cell_type": "markdown",
   "id": "4776b58f",
   "metadata": {},
   "source": [
    "### 分类结果和精度"
   ]
  },
  {
   "cell_type": "code",
   "execution_count": 19,
   "id": "979bb75b",
   "metadata": {},
   "outputs": [
    {
     "name": "stdout",
     "output_type": "stream",
     "text": [
      "分类结果为： [0 0 2 0 0 1 0 2 2 0 0 0 0 0 1 1 0 1 2 1 2 1 2 1 1 0 0 2 0 2]\n",
      "训练集精度为： 0.9666666666666667\n",
      "测试集精度为： 0.9333333333333333\n"
     ]
    }
   ],
   "source": [
    "model = XGBClassifier(\n",
    "    n_estimators=grid_search.best_params_['n_estimators'],\n",
    "    max_depth=grid_search.best_params_['max_depth'],\n",
    "    learning_rate=grid_search.best_params_['learning_rate'])\n",
    "model.fit(x_train, y_train)\n",
    "y_pred = model.predict(x_test)\n",
    "print('分类结果为：', y_pred)\n",
    "print('训练集精度为：', model.score(x_train, y_train))\n",
    "print('测试集精度为：', model.score(x_test, y_test))"
   ]
  },
  {
   "cell_type": "markdown",
   "id": "6cd4b8f7",
   "metadata": {},
   "source": [
    "### 评价指标"
   ]
  },
  {
   "cell_type": "code",
   "execution_count": 20,
   "id": "af5d10e5",
   "metadata": {},
   "outputs": [
    {
     "name": "stdout",
     "output_type": "stream",
     "text": [
      "模型的R方值： 0.9038461538461539\n",
      "模型混淆矩阵: \n",
      " [[14  0  0]\n",
      " [ 0  7  1]\n",
      " [ 0  1  7]]\n",
      "模型分类报告: \n",
      "               precision    recall  f1-score   support\n",
      "\n",
      "           0       1.00      1.00      1.00        14\n",
      "           1       0.88      0.88      0.88         8\n",
      "           2       0.88      0.88      0.88         8\n",
      "\n",
      "    accuracy                           0.93        30\n",
      "   macro avg       0.92      0.92      0.92        30\n",
      "weighted avg       0.93      0.93      0.93        30\n",
      "\n"
     ]
    }
   ],
   "source": [
    "print('模型的R方值：',r2_score(y_test,y_pred))\n",
    "print('模型混淆矩阵:','\\n',confusion_matrix(y_test,y_pred))\n",
    "print('模型分类报告:','\\n',classification_report(y_test,y_pred))"
   ]
  },
  {
   "cell_type": "markdown",
   "id": "b519b168",
   "metadata": {},
   "source": [
    "### 特征重要性"
   ]
  },
  {
   "cell_type": "code",
   "execution_count": 21,
   "id": "f994bde6",
   "metadata": {},
   "outputs": [
    {
     "data": {
      "image/png": "[encoded data removed]",
      "text/plain": [
       "<Figure size 432x288 with 1 Axes>"
      ]
     },
     "metadata": {
      "needs_background": "light"
     },
     "output_type": "display_data"
    }
   ],
   "source": [
    "#自建函数\n",
    "def plot_feature_importances_cancer(model):\n",
    "    n_features = len(data.feature_names) \n",
    "    plt.barh(range(n_features), model.feature_importances_, align='center')  #条形图\n",
    "    plt.yticks(np.arange(n_features), data.feature_names)\n",
    "    plt.xlabel(\"Feature importance\")\n",
    "    plt.ylabel(\"Feature\")\n",
    " \n",
    " #执行函数\n",
    "plot_feature_importances_cancer(model)"
   ]
  },
  {
   "cell_type": "markdown",
   "id": "ebc5fa6f",
   "metadata": {},
   "source": [
    "## 随机森林"
   ]
  },
  {
   "cell_type": "markdown",
   "id": "92f673a1",
   "metadata": {},
   "source": [
    "### 网格搜索超参数"
   ]
  },
  {
   "cell_type": "code",
   "execution_count": 22,
   "id": "65fade54",
   "metadata": {},
   "outputs": [
    {
     "data": {
      "text/plain": [
       "{'max_features': 2, 'n_estimators': 3}"
      ]
     },
     "execution_count": 22,
     "metadata": {},
     "output_type": "execute_result"
    }
   ],
   "source": [
    "# 可以通过print(RandomForestClassifier.__doc__) 查看文档\n",
    "model = RandomForestClassifier(random_state=42)\n",
    "param_grid = [\n",
    "    {'n_estimators':[3,10,30], 'max_features':[2,4,6,8]},\n",
    "    {'bootstrap':[False],'n_estimators':[3,10], 'max_features':[2,3,4]}\n",
    "]\n",
    "grid_search = GridSearchCV(model, param_grid, cv=5, scoring='roc_auc', return_train_score=True)\n",
    "grid_search.fit(x_train, y_train)\n",
    "# 输出最优超参数组合\n",
    "grid_search.best_params_"
   ]
  },
  {
   "cell_type": "markdown",
   "id": "4e721840",
   "metadata": {},
   "source": [
    "### 分类结果和精度"
   ]
  },
  {
   "cell_type": "code",
   "execution_count": 23,
   "id": "456f791b",
   "metadata": {},
   "outputs": [
    {
     "name": "stdout",
     "output_type": "stream",
     "text": [
      "分类结果为： [0 0 2 0 0 2 0 2 2 0 0 0 0 0 1 1 0 1 2 1 2 1 2 1 1 0 0 2 0 2]\n",
      "训练集精度为： 1.0\n",
      "测试集精度为： 0.9666666666666667\n"
     ]
    }
   ],
   "source": [
    "model = RandomForestClassifier(n_estimators=100, random_state=123)\n",
    "model.fit(x_train, y_train)\n",
    "y_pred = model.predict(x_test)\n",
    "print('分类结果为：', y_pred)\n",
    "print('训练集精度为：', model.score(x_train, y_train))\n",
    "print('测试集精度为：', model.score(x_test, y_test))"
   ]
  },
  {
   "cell_type": "markdown",
   "id": "7f7a7a49",
   "metadata": {},
   "source": [
    "### 评价指标"
   ]
  },
  {
   "cell_type": "code",
   "execution_count": 24,
   "id": "a7afbc3a",
   "metadata": {},
   "outputs": [
    {
     "name": "stdout",
     "output_type": "stream",
     "text": [
      "模型的R方值： 0.951923076923077\n",
      "模型混淆矩阵: \n",
      " [[14  0  0]\n",
      " [ 0  7  1]\n",
      " [ 0  0  8]]\n",
      "模型分类报告: \n",
      "               precision    recall  f1-score   support\n",
      "\n",
      "           0       1.00      1.00      1.00        14\n",
      "           1       1.00      0.88      0.93         8\n",
      "           2       0.89      1.00      0.94         8\n",
      "\n",
      "    accuracy                           0.97        30\n",
      "   macro avg       0.96      0.96      0.96        30\n",
      "weighted avg       0.97      0.97      0.97        30\n",
      "\n"
     ]
    }
   ],
   "source": [
    "print('模型的R方值：',r2_score(y_test,y_pred))\n",
    "print('模型混淆矩阵:','\\n',confusion_matrix(y_test,y_pred))\n",
    "print('模型分类报告:','\\n',classification_report(y_test,y_pred))"
   ]
  },
  {
   "cell_type": "markdown",
   "id": "41db067a",
   "metadata": {},
   "source": [
    "### 特征重要性"
   ]
  },
  {
   "cell_type": "code",
   "execution_count": 25,
   "id": "71ff2232",
   "metadata": {},
   "outputs": [
    {
     "data": {
      "image/png": "[encoded data removed]",
      "text/plain": [
       "<Figure size 432x288 with 1 Axes>"
      ]
     },
     "metadata": {
      "needs_background": "light"
     },
     "output_type": "display_data"
    }
   ],
   "source": [
    "#自建函数\n",
    "def plot_feature_importances_cancer(model):\n",
    "    n_features = len(data.feature_names) \n",
    "    plt.barh(range(n_features), model.feature_importances_, align='center')  #条形图\n",
    "    plt.yticks(np.arange(n_features), data.feature_names)\n",
    "    plt.xlabel(\"Feature importance\")\n",
    "    plt.ylabel(\"Feature\")\n",
    " \n",
    " #执行函数\n",
    "plot_feature_importances_cancer(model)"
   ]
  },
  {
   "cell_type": "markdown",
   "id": "54765aac",
   "metadata": {},
   "source": [
    "## 以随机森林为例保存模型"
   ]
  },
  {
   "cell_type": "code",
   "execution_count": 26,
   "id": "ffa347ba",
   "metadata": {},
   "outputs": [],
   "source": [
    "# import joblib\n",
    "# # 保存模型\n",
    "# joblib.dump(model, 'my_model.pkl')\n",
    "# # 加载模型\n",
    "# my_model_loaded = joblib.load('my_model.pkl')"
   ]
  },
  {
   "cell_type": "markdown",
   "id": "9e55f119",
   "metadata": {},
   "source": [
    "# logistic回归"
   ]
  },
  {
   "cell_type": "markdown",
   "id": "943019d4",
   "metadata": {},
   "source": [
    "## 一维决策边界\n",
    "\n",
    "维吉尼亚鸢尾的花瓣宽度范围为1.4-2.5cm，其他两种为0.1-1.8cm。对于宽度在1cm以下和2cm以上的可以很有信心判断，在这两个极端之间则不太有把握。"
   ]
  },
  {
   "cell_type": "code",
   "execution_count": 27,
   "id": "c58f77a2",
   "metadata": {},
   "outputs": [
    {
     "data": {
      "image/png": "[encoded data removed]",
      "text/plain": [
       "<Figure size 576x216 with 1 Axes>"
      ]
     },
     "metadata": {
      "needs_background": "light"
     },
     "output_type": "display_data"
    }
   ],
   "source": [
    "X = data['data'][:,3:]\n",
    "y = (data['target']==2).astype(np.int64)\n",
    "model = LogisticRegression()\n",
    "model.fit(X, y)\n",
    "\n",
    "X_new = np.linspace(0, 3, 1000).reshape(-1, 1)\n",
    "# y_proba是二维数组，第1列为类0的概率，第2列为类1的概率\n",
    "y_proba = model.predict_proba(X_new)\n",
    "decision_boundary = X_new[y_proba[:, 1] >= 0.5][0]\n",
    "\n",
    "plt.figure(figsize=(8, 3))\n",
    "# 实例实际位置\n",
    "plt.plot(X[y==0], y[y==0], \"bs\")\n",
    "plt.plot(X[y==1], y[y==1], \"g^\")\n",
    "# 画决策边界\n",
    "plt.plot([decision_boundary, decision_boundary], [-1, 2], \"k:\", linewidth=2)\n",
    "# 画实例预测概率\n",
    "plt.plot(X_new, y_proba[:, 1], \"g-\", linewidth=2, label=\"Iris virginica\")\n",
    "plt.plot(X_new, y_proba[:, 0], \"b--\", linewidth=2, label=\"Not Iris virginica\")\n",
    "# 增添挂件\n",
    "plt.text(decision_boundary+0.02, 0.15, \"Decision  boundary\", fontsize=14, color=\"k\", ha=\"center\")\n",
    "# x,y尾部的坐标，dx,dy比尾部坐标偏了多少\n",
    "plt.arrow(decision_boundary, 0.08, -0.3, 0, head_width=0.05, head_length=0.1, fc='b', ec='b')\n",
    "plt.arrow(decision_boundary, 0.92, 0.3, 0, head_width=0.05, head_length=0.1, fc='g', ec='g')\n",
    "\n",
    "plt.xlabel(\"Petal width (cm)\", fontsize=14)\n",
    "plt.ylabel(\"Probability\", fontsize=14)\n",
    "plt.legend(loc=\"center left\", fontsize=14)\n",
    "plt.axis([0, 3, -0.02, 1.02])\n",
    "plt.show()"
   ]
  },
  {
   "cell_type": "markdown",
   "id": "29981a30",
   "metadata": {},
   "source": [
    "## 二维决策边界"
   ]
  },
  {
   "cell_type": "code",
   "execution_count": 28,
   "id": "45ef2662",
   "metadata": {},
   "outputs": [
    {
     "data": {
      "image/png": "[encoded data removed]",
      "text/plain": [
       "<Figure size 720x288 with 1 Axes>"
      ]
     },
     "metadata": {
      "needs_background": "light"
     },
     "output_type": "display_data"
    }
   ],
   "source": [
    "X = data['data'][:,2:]\n",
    "y = (data['target']==2).astype(np.int64)\n",
    "model = LogisticRegression()\n",
    "model.fit(X, y)\n",
    "\n",
    "# np.meshgrid将x中每一个数据和y中每一个数据组合生成很多点,然后将这些点的x坐标放入到X中,y坐标放入Y中,并且相应位置是对应的\n",
    "x0, x1 = np.meshgrid(\n",
    "        np.linspace(2.9, 7, 500).reshape(-1, 1),\n",
    "        np.linspace(0.8, 2.7, 200).reshape(-1, 1),\n",
    "    )\n",
    "X_new = np.c_[x0.ravel(), x1.ravel()]\n",
    "y_proba = model.predict_proba(X_new)\n",
    "\n",
    "# 实例实际位置\n",
    "plt.figure(figsize=(10, 4))\n",
    "plt.plot(X[y==0, 0], X[y==0, 1], \"bs\")\n",
    "plt.plot(X[y==1, 0], X[y==1, 1], \"g^\")\n",
    "# plt.contour画等高线\n",
    "zz = y_proba[:, 1].reshape(x0.shape)\n",
    "contour = plt.contour(x0, x1, zz, cmap=plt.cm.brg)\n",
    "# plt.clabel添加标签\n",
    "plt.clabel(contour, fontsize=12)\n",
    "# 画决策边界\n",
    "left_right = np.array([2.9, 7])\n",
    "# theta0+theta1*x1+theta2*x2=0\n",
    "boundary = -(model.coef_[0][0] * left_right + model.intercept_[0]) / model.coef_[0][1]\n",
    "plt.plot(left_right, boundary, \"k--\", linewidth=3)\n",
    "\n",
    "plt.text(3.5, 1.5, \"Not Iris virginica\", fontsize=14, color=\"b\", ha=\"center\")\n",
    "plt.text(6.5, 2.3, \"Iris virginica\", fontsize=14, color=\"g\", ha=\"center\")\n",
    "plt.xlabel(\"Petal length\", fontsize=14)\n",
    "plt.ylabel(\"Petal width\", fontsize=14)\n",
    "plt.axis([2.9, 7, 0.8, 2.7])\n",
    "plt.show()"
   ]
  },
  {
   "cell_type": "markdown",
   "id": "2c29fb82",
   "metadata": {},
   "source": [
    "# softmax回归\n",
    "\n",
    "由不同背景色展示的决策边界，任何两个类之间的决策边界都是线性的。在所有决策边界相交的地方，所有类的估算概率都为33%。"
   ]
  },
  {
   "cell_type": "code",
   "execution_count": 29,
   "id": "bef2c28e",
   "metadata": {},
   "outputs": [
    {
     "data": {
      "image/png": "[encoded data removed]",
      "text/plain": [
       "<Figure size 720x288 with 1 Axes>"
      ]
     },
     "metadata": {
      "needs_background": "light"
     },
     "output_type": "display_data"
    }
   ],
   "source": [
    "X = data['data'][:, 2:]  \n",
    "y = data[\"target\"]\n",
    "\n",
    "# 多类时logistic默认是一对多的训练方式\n",
    "# 不过将参数multi_class设置为\"multinomial\"，可以切换成softmax回归，并指定求解器为lbfgs\n",
    "model = LogisticRegression(multi_class=\"multinomial\",solver=\"lbfgs\", C=10)\n",
    "model.fit(X, y)\n",
    "\n",
    "x0, x1 = np.meshgrid(\n",
    "        np.linspace(0, 8, 500).reshape(-1, 1),\n",
    "        np.linspace(0, 3.5, 200).reshape(-1, 1),\n",
    "    )\n",
    "X_new = np.c_[x0.ravel(), x1.ravel()]\n",
    "y_proba = model.predict_proba(X_new)\n",
    "y_predict = model.predict(X_new)\n",
    "\n",
    "# 实例实际位置\n",
    "plt.figure(figsize=(10, 4))\n",
    "plt.plot(X[y==2, 0], X[y==2, 1], \"g^\", label=\"Iris virginica\")\n",
    "plt.plot(X[y==1, 0], X[y==1, 1], \"bs\", label=\"Iris versicolor\")\n",
    "plt.plot(X[y==0, 0], X[y==0, 1], \"yo\", label=\"Iris setosa\")\n",
    "\n",
    "# 画等高线（带填充）\n",
    "custom_cmap = ListedColormap(['#fafab0','#9898ff','#a0faa0'])\n",
    "zz = y_predict.reshape(x0.shape)\n",
    "plt.contourf(x0, x1, zz, cmap=custom_cmap)\n",
    "# 画等高线\n",
    "zz1 = y_proba[:, 1].reshape(x0.shape)\n",
    "contour = plt.contour(x0, x1, zz1, cmap=plt.cm.brg)\n",
    "plt.clabel(contour, fontsize=12)\n",
    "\n",
    "plt.xlabel(\"Petal length\", fontsize=14)\n",
    "plt.ylabel(\"Petal width\", fontsize=14)\n",
    "plt.legend(loc=\"center left\", fontsize=14)\n",
    "plt.axis([0, 7, 0, 3.5])\n",
    "plt.show()"
   ]
  }
 ],
 "metadata": {
  "kernelspec": {
   "display_name": "Python 3 (ipykernel)",
   "language": "python",
   "name": "python3"
  },
  "language_info": {
   "codemirror_mode": {
    "name": "ipython",
    "version": 3
   },
   "file_extension": ".py",
   "mimetype": "text/x-python",
   "name": "python",
   "nbconvert_exporter": "python",
   "pygments_lexer": "ipython3",
   "version": "3.9.7"
  },
  "toc": {
   "base_numbering": 1,
   "nav_menu": {},
   "number_sections": true,
   "sideBar": true,
   "skip_h1_title": false,
   "title_cell": "Table of Contents",
   "title_sidebar": "Contents",
   "toc_cell": false,
   "toc_position": {
    "height": "calc(100% - 180px)",
    "left": "10px",
    "top": "150px",
    "width": "256px"
   },
   "toc_section_display": true,
   "toc_window_display": true
  },
  "varInspector": {
   "cols": {
    "lenName": 16,
    "lenType": 16,
    "lenVar": 40
   },
   "kernels_config": {
    "python": {
     "delete_cmd_postfix": "",
     "delete_cmd_prefix": "del ",
     "library": "var_list.py",
     "varRefreshCmd": "print(var_dic_list())"
    },
    "r": {
     "delete_cmd_postfix": ") ",
     "delete_cmd_prefix": "rm(",
     "library": "var_list.r",
     "varRefreshCmd": "cat(var_dic_list()) "
    }
   },
   "types_to_exclude": [
    "module",
    "function",
    "builtin_function_or_method",
    "instance",
    "_Feature"
   ],
   "window_display": false
  }
 },
 "nbformat": 4,
 "nbformat_minor": 5
}
