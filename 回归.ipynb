{
 "cells": [
  {
   "cell_type": "code",
   "execution_count": 1,
   "id": "8412d7c9",
   "metadata": {},
   "outputs": [],
   "source": [
    "# 数据处理所需的库\n",
    "import random\n",
    "import numpy as np\n",
    "import pandas as pd\n",
    "\n",
    "# 数据可视化所需的库\n",
    "import matplotlib.pyplot as plt\n",
    "from matplotlib.cm import get_cmap  \n",
    "from matplotlib.colors import LinearSegmentedColormap  \n",
    "plt.rcParams['font.sans-serif'] = 'SimHei'\n",
    "plt.rcParams['axes.unicode_minus'] = False\n",
    "import seaborn as sns\n",
    "\n",
    "# 机器学习预处理所需的库\n",
    "from sklearn.model_selection import train_test_split\n",
    "from sklearn.model_selection import GridSearchCV\n",
    "from sklearn.preprocessing import StandardScaler\n",
    "from sklearn.decomposition import PCA\n",
    "\n",
    "# 机器学习算法所需的库\n",
    "from sklearn.linear_model import LinearRegression\n",
    "from sklearn.linear_model import Ridge\n",
    "from sklearn.linear_model import Lasso\n",
    "from sklearn.svm import SVR\n",
    "from sklearn.tree import DecisionTreeRegressor \n",
    "from xgboost import XGBRegressor\n",
    "from sklearn.ensemble import RandomForestRegressor\n",
    "\n",
    "# 机器学习评价指标所需的库\n",
    "from sklearn import metrics\n",
    "from sklearn.metrics import mean_squared_error\n",
    "\n",
    "# 其他所需的库\n",
    "import warnings\n",
    "warnings.filterwarnings('ignore')"
   ]
  },
  {
   "cell_type": "markdown",
   "id": "6695ac0e",
   "metadata": {},
   "source": [
    "# 数据处理"
   ]
  },
  {
   "cell_type": "markdown",
   "id": "242d3cda",
   "metadata": {},
   "source": [
    "## 加载数据"
   ]
  },
  {
   "cell_type": "code",
   "execution_count": 2,
   "id": "24700856",
   "metadata": {},
   "outputs": [
    {
     "data": {
      "text/html": [
       "<div>\n",
       "<style scoped>\n",
       "    .dataframe tbody tr th:only-of-type {\n",
       "        vertical-align: middle;\n",
       "    }\n",
       "\n",
       "    .dataframe tbody tr th {\n",
       "        vertical-align: top;\n",
       "    }\n",
       "\n",
       "    .dataframe thead th {\n",
       "        text-align: right;\n",
       "    }\n",
       "</style>\n",
       "<table border=\"1\" class=\"dataframe\">\n",
       "  <thead>\n",
       "    <tr style=\"text-align: right;\">\n",
       "      <th></th>\n",
       "      <th>骑行量</th>\n",
       "      <th>白人人口比例</th>\n",
       "      <th>黑人人口比例</th>\n",
       "      <th>亚裔人口比例</th>\n",
       "      <th>无车人口比例</th>\n",
       "      <th>有车人口比例</th>\n",
       "      <th>人口密度</th>\n",
       "      <th>家庭收入中位数</th>\n",
       "      <th>劳动力人口比例</th>\n",
       "    </tr>\n",
       "  </thead>\n",
       "  <tbody>\n",
       "    <tr>\n",
       "      <th>0</th>\n",
       "      <td>5903.0</td>\n",
       "      <td>0.105828</td>\n",
       "      <td>0.651002</td>\n",
       "      <td>0.145501</td>\n",
       "      <td>0.198881</td>\n",
       "      <td>0.273846</td>\n",
       "      <td>0.466258</td>\n",
       "      <td>69397.59036</td>\n",
       "      <td>0.574797</td>\n",
       "    </tr>\n",
       "    <tr>\n",
       "      <th>1</th>\n",
       "      <td>405.0</td>\n",
       "      <td>0.044027</td>\n",
       "      <td>0.866628</td>\n",
       "      <td>0.016349</td>\n",
       "      <td>0.153592</td>\n",
       "      <td>0.297290</td>\n",
       "      <td>0.412263</td>\n",
       "      <td>48793.10345</td>\n",
       "      <td>0.480455</td>\n",
       "    </tr>\n",
       "    <tr>\n",
       "      <th>2</th>\n",
       "      <td>19365.5</td>\n",
       "      <td>0.050260</td>\n",
       "      <td>0.866099</td>\n",
       "      <td>0.004658</td>\n",
       "      <td>0.313969</td>\n",
       "      <td>0.204672</td>\n",
       "      <td>0.112067</td>\n",
       "      <td>37122.66529</td>\n",
       "      <td>0.469423</td>\n",
       "    </tr>\n",
       "    <tr>\n",
       "      <th>3</th>\n",
       "      <td>50.0</td>\n",
       "      <td>0.041235</td>\n",
       "      <td>0.895686</td>\n",
       "      <td>0.007267</td>\n",
       "      <td>0.165786</td>\n",
       "      <td>0.307618</td>\n",
       "      <td>0.488096</td>\n",
       "      <td>71951.49017</td>\n",
       "      <td>0.499394</td>\n",
       "    </tr>\n",
       "    <tr>\n",
       "      <th>4</th>\n",
       "      <td>474.0</td>\n",
       "      <td>0.209159</td>\n",
       "      <td>0.660138</td>\n",
       "      <td>0.060149</td>\n",
       "      <td>0.174438</td>\n",
       "      <td>0.372746</td>\n",
       "      <td>0.618195</td>\n",
       "      <td>37484.19389</td>\n",
       "      <td>0.431496</td>\n",
       "    </tr>\n",
       "    <tr>\n",
       "      <th>...</th>\n",
       "      <td>...</td>\n",
       "      <td>...</td>\n",
       "      <td>...</td>\n",
       "      <td>...</td>\n",
       "      <td>...</td>\n",
       "      <td>...</td>\n",
       "      <td>...</td>\n",
       "      <td>...</td>\n",
       "      <td>...</td>\n",
       "    </tr>\n",
       "    <tr>\n",
       "      <th>72</th>\n",
       "      <td>231.5</td>\n",
       "      <td>0.811412</td>\n",
       "      <td>0.032325</td>\n",
       "      <td>0.016083</td>\n",
       "      <td>0.018100</td>\n",
       "      <td>0.350531</td>\n",
       "      <td>0.249258</td>\n",
       "      <td>54757.83476</td>\n",
       "      <td>0.480163</td>\n",
       "    </tr>\n",
       "    <tr>\n",
       "      <th>73</th>\n",
       "      <td>201.0</td>\n",
       "      <td>0.304030</td>\n",
       "      <td>0.614019</td>\n",
       "      <td>0.004188</td>\n",
       "      <td>0.048454</td>\n",
       "      <td>0.342511</td>\n",
       "      <td>0.223494</td>\n",
       "      <td>46380.45541</td>\n",
       "      <td>0.498301</td>\n",
       "    </tr>\n",
       "    <tr>\n",
       "      <th>74</th>\n",
       "      <td>7670.5</td>\n",
       "      <td>0.674542</td>\n",
       "      <td>0.066084</td>\n",
       "      <td>0.155517</td>\n",
       "      <td>0.044936</td>\n",
       "      <td>0.443514</td>\n",
       "      <td>0.036301</td>\n",
       "      <td>57937.30032</td>\n",
       "      <td>0.494509</td>\n",
       "    </tr>\n",
       "    <tr>\n",
       "      <th>75</th>\n",
       "      <td>230098.0</td>\n",
       "      <td>0.535192</td>\n",
       "      <td>0.132571</td>\n",
       "      <td>0.137308</td>\n",
       "      <td>0.189972</td>\n",
       "      <td>0.302251</td>\n",
       "      <td>1.211414</td>\n",
       "      <td>112555.20910</td>\n",
       "      <td>0.734462</td>\n",
       "    </tr>\n",
       "    <tr>\n",
       "      <th>76</th>\n",
       "      <td>12145.5</td>\n",
       "      <td>0.827213</td>\n",
       "      <td>0.004181</td>\n",
       "      <td>0.025632</td>\n",
       "      <td>0.030722</td>\n",
       "      <td>0.374750</td>\n",
       "      <td>0.347765</td>\n",
       "      <td>27540.98361</td>\n",
       "      <td>0.487566</td>\n",
       "    </tr>\n",
       "  </tbody>\n",
       "</table>\n",
       "<p>77 rows × 9 columns</p>\n",
       "</div>"
      ],
      "text/plain": [
       "         骑行量    白人人口比例    黑人人口比例    亚裔人口比例    无车人口比例    有车人口比例      人口密度  \\\n",
       "0     5903.0  0.105828  0.651002  0.145501  0.198881  0.273846  0.466258   \n",
       "1      405.0  0.044027  0.866628  0.016349  0.153592  0.297290  0.412263   \n",
       "2    19365.5  0.050260  0.866099  0.004658  0.313969  0.204672  0.112067   \n",
       "3       50.0  0.041235  0.895686  0.007267  0.165786  0.307618  0.488096   \n",
       "4      474.0  0.209159  0.660138  0.060149  0.174438  0.372746  0.618195   \n",
       "..       ...       ...       ...       ...       ...       ...       ...   \n",
       "72     231.5  0.811412  0.032325  0.016083  0.018100  0.350531  0.249258   \n",
       "73     201.0  0.304030  0.614019  0.004188  0.048454  0.342511  0.223494   \n",
       "74    7670.5  0.674542  0.066084  0.155517  0.044936  0.443514  0.036301   \n",
       "75  230098.0  0.535192  0.132571  0.137308  0.189972  0.302251  1.211414   \n",
       "76   12145.5  0.827213  0.004181  0.025632  0.030722  0.374750  0.347765   \n",
       "\n",
       "         家庭收入中位数   劳动力人口比例  \n",
       "0    69397.59036  0.574797  \n",
       "1    48793.10345  0.480455  \n",
       "2    37122.66529  0.469423  \n",
       "3    71951.49017  0.499394  \n",
       "4    37484.19389  0.431496  \n",
       "..           ...       ...  \n",
       "72   54757.83476  0.480163  \n",
       "73   46380.45541  0.498301  \n",
       "74   57937.30032  0.494509  \n",
       "75  112555.20910  0.734462  \n",
       "76   27540.98361  0.487566  \n",
       "\n",
       "[77 rows x 9 columns]"
      ]
     },
     "execution_count": 2,
     "metadata": {},
     "output_type": "execute_result"
    }
   ],
   "source": [
    "data = pd.read_csv(r'post COVID.csv')\n",
    "data"
   ]
  },
  {
   "cell_type": "markdown",
   "id": "5715ab6e",
   "metadata": {},
   "source": [
    "## 初步认识特征"
   ]
  },
  {
   "cell_type": "code",
   "execution_count": 3,
   "id": "b917a25d",
   "metadata": {},
   "outputs": [
    {
     "name": "stdout",
     "output_type": "stream",
     "text": [
      "<class 'pandas.core.frame.DataFrame'>\n",
      "RangeIndex: 77 entries, 0 to 76\n",
      "Data columns (total 9 columns):\n",
      " #   Column   Non-Null Count  Dtype  \n",
      "---  ------   --------------  -----  \n",
      " 0   骑行量      77 non-null     float64\n",
      " 1   白人人口比例   77 non-null     float64\n",
      " 2   黑人人口比例   77 non-null     float64\n",
      " 3   亚裔人口比例   77 non-null     float64\n",
      " 4   无车人口比例   77 non-null     float64\n",
      " 5   有车人口比例   77 non-null     float64\n",
      " 6   人口密度     77 non-null     float64\n",
      " 7   家庭收入中位数  77 non-null     float64\n",
      " 8   劳动力人口比例  77 non-null     float64\n",
      "dtypes: float64(9)\n",
      "memory usage: 5.5 KB\n"
     ]
    }
   ],
   "source": [
    "# 全是数值型特征，没有类别型和时间型特征\n",
    "data.info()"
   ]
  },
  {
   "cell_type": "markdown",
   "id": "f10595f4",
   "metadata": {},
   "source": [
    "## 数值型特征查看统计摘要\n",
    "\n",
    "数量，均值，标准差，最小值，下四分位数，中位数，上四分位数，最大值"
   ]
  },
  {
   "cell_type": "code",
   "execution_count": 4,
   "id": "6c16208d",
   "metadata": {},
   "outputs": [
    {
     "data": {
      "text/html": [
       "<div>\n",
       "<style scoped>\n",
       "    .dataframe tbody tr th:only-of-type {\n",
       "        vertical-align: middle;\n",
       "    }\n",
       "\n",
       "    .dataframe tbody tr th {\n",
       "        vertical-align: top;\n",
       "    }\n",
       "\n",
       "    .dataframe thead th {\n",
       "        text-align: right;\n",
       "    }\n",
       "</style>\n",
       "<table border=\"1\" class=\"dataframe\">\n",
       "  <thead>\n",
       "    <tr style=\"text-align: right;\">\n",
       "      <th></th>\n",
       "      <th>骑行量</th>\n",
       "      <th>白人人口比例</th>\n",
       "      <th>黑人人口比例</th>\n",
       "      <th>亚裔人口比例</th>\n",
       "      <th>无车人口比例</th>\n",
       "      <th>有车人口比例</th>\n",
       "      <th>人口密度</th>\n",
       "      <th>家庭收入中位数</th>\n",
       "      <th>劳动力人口比例</th>\n",
       "    </tr>\n",
       "  </thead>\n",
       "  <tbody>\n",
       "    <tr>\n",
       "      <th>count</th>\n",
       "      <td>77.000000</td>\n",
       "      <td>77.000000</td>\n",
       "      <td>77.000000</td>\n",
       "      <td>77.000000</td>\n",
       "      <td>77.000000</td>\n",
       "      <td>77.000000</td>\n",
       "      <td>77.000000</td>\n",
       "      <td>77.000000</td>\n",
       "      <td>77.000000</td>\n",
       "    </tr>\n",
       "    <tr>\n",
       "      <th>mean</th>\n",
       "      <td>41499.025974</td>\n",
       "      <td>0.279055</td>\n",
       "      <td>0.369343</td>\n",
       "      <td>0.064529</td>\n",
       "      <td>0.103776</td>\n",
       "      <td>0.292961</td>\n",
       "      <td>0.465112</td>\n",
       "      <td>59387.352015</td>\n",
       "      <td>0.522111</td>\n",
       "    </tr>\n",
       "    <tr>\n",
       "      <th>std</th>\n",
       "      <td>114057.981002</td>\n",
       "      <td>0.263694</td>\n",
       "      <td>0.385913</td>\n",
       "      <td>0.108146</td>\n",
       "      <td>0.068727</td>\n",
       "      <td>0.054419</td>\n",
       "      <td>0.261627</td>\n",
       "      <td>27981.448118</td>\n",
       "      <td>0.086711</td>\n",
       "    </tr>\n",
       "    <tr>\n",
       "      <th>min</th>\n",
       "      <td>18.500000</td>\n",
       "      <td>0.008337</td>\n",
       "      <td>0.004181</td>\n",
       "      <td>0.000000</td>\n",
       "      <td>0.013726</td>\n",
       "      <td>0.196919</td>\n",
       "      <td>0.036301</td>\n",
       "      <td>17216.786220</td>\n",
       "      <td>0.346632</td>\n",
       "    </tr>\n",
       "    <tr>\n",
       "      <th>25%</th>\n",
       "      <td>406.000000</td>\n",
       "      <td>0.044027</td>\n",
       "      <td>0.029843</td>\n",
       "      <td>0.003355</td>\n",
       "      <td>0.044716</td>\n",
       "      <td>0.250584</td>\n",
       "      <td>0.289452</td>\n",
       "      <td>37484.193890</td>\n",
       "      <td>0.464382</td>\n",
       "    </tr>\n",
       "    <tr>\n",
       "      <th>50%</th>\n",
       "      <td>1477.000000</td>\n",
       "      <td>0.147060</td>\n",
       "      <td>0.132571</td>\n",
       "      <td>0.022008</td>\n",
       "      <td>0.084258</td>\n",
       "      <td>0.288307</td>\n",
       "      <td>0.412263</td>\n",
       "      <td>54757.834760</td>\n",
       "      <td>0.501008</td>\n",
       "    </tr>\n",
       "    <tr>\n",
       "      <th>75%</th>\n",
       "      <td>12145.500000</td>\n",
       "      <td>0.487451</td>\n",
       "      <td>0.826605</td>\n",
       "      <td>0.085852</td>\n",
       "      <td>0.163444</td>\n",
       "      <td>0.334823</td>\n",
       "      <td>0.580048</td>\n",
       "      <td>73616.003060</td>\n",
       "      <td>0.568477</td>\n",
       "    </tr>\n",
       "    <tr>\n",
       "      <th>max</th>\n",
       "      <td>630945.500000</td>\n",
       "      <td>0.827213</td>\n",
       "      <td>0.964654</td>\n",
       "      <td>0.706661</td>\n",
       "      <td>0.313969</td>\n",
       "      <td>0.468684</td>\n",
       "      <td>1.244263</td>\n",
       "      <td>133537.464000</td>\n",
       "      <td>0.741492</td>\n",
       "    </tr>\n",
       "  </tbody>\n",
       "</table>\n",
       "</div>"
      ],
      "text/plain": [
       "                 骑行量     白人人口比例     黑人人口比例     亚裔人口比例     无车人口比例     有车人口比例  \\\n",
       "count      77.000000  77.000000  77.000000  77.000000  77.000000  77.000000   \n",
       "mean    41499.025974   0.279055   0.369343   0.064529   0.103776   0.292961   \n",
       "std    114057.981002   0.263694   0.385913   0.108146   0.068727   0.054419   \n",
       "min        18.500000   0.008337   0.004181   0.000000   0.013726   0.196919   \n",
       "25%       406.000000   0.044027   0.029843   0.003355   0.044716   0.250584   \n",
       "50%      1477.000000   0.147060   0.132571   0.022008   0.084258   0.288307   \n",
       "75%     12145.500000   0.487451   0.826605   0.085852   0.163444   0.334823   \n",
       "max    630945.500000   0.827213   0.964654   0.706661   0.313969   0.468684   \n",
       "\n",
       "            人口密度        家庭收入中位数    劳动力人口比例  \n",
       "count  77.000000      77.000000  77.000000  \n",
       "mean    0.465112   59387.352015   0.522111  \n",
       "std     0.261627   27981.448118   0.086711  \n",
       "min     0.036301   17216.786220   0.346632  \n",
       "25%     0.289452   37484.193890   0.464382  \n",
       "50%     0.412263   54757.834760   0.501008  \n",
       "75%     0.580048   73616.003060   0.568477  \n",
       "max     1.244263  133537.464000   0.741492  "
      ]
     },
     "execution_count": 4,
     "metadata": {},
     "output_type": "execute_result"
    }
   ],
   "source": [
    "data.describe()"
   ]
  },
  {
   "cell_type": "markdown",
   "id": "068dcac8",
   "metadata": {},
   "source": [
    "## 删除重复值"
   ]
  },
  {
   "cell_type": "code",
   "execution_count": 5,
   "id": "3b9b0841",
   "metadata": {},
   "outputs": [
    {
     "name": "stdout",
     "output_type": "stream",
     "text": [
      "删除重复值前数据集尺寸为: (77, 9)\n",
      "删除重复值后数据集尺寸为: (77, 9)\n"
     ]
    }
   ],
   "source": [
    "print('删除重复值前数据集尺寸为:', data.shape)\n",
    "data.drop_duplicates(keep='first', inplace=True)\n",
    "print('删除重复值后数据集尺寸为:', data.shape)"
   ]
  },
  {
   "cell_type": "markdown",
   "id": "16f42982",
   "metadata": {},
   "source": [
    "## 填补缺失值"
   ]
  },
  {
   "cell_type": "code",
   "execution_count": 6,
   "id": "1d6761ed",
   "metadata": {},
   "outputs": [
    {
     "name": "stdout",
     "output_type": "stream",
     "text": [
      "查看是否有缺失值: 骑行量        0\n",
      "白人人口比例     0\n",
      "黑人人口比例     0\n",
      "亚裔人口比例     0\n",
      "无车人口比例     0\n",
      "有车人口比例     0\n",
      "人口密度       0\n",
      "家庭收入中位数    0\n",
      "劳动力人口比例    0\n",
      "dtype: int64\n"
     ]
    }
   ],
   "source": [
    "print('查看是否有缺失值:', data.isnull().sum())"
   ]
  },
  {
   "cell_type": "markdown",
   "id": "eeeab5c6",
   "metadata": {},
   "source": [
    "## 修改异常值\n",
    "\n",
    "对于异常值的处理要慎之又慎，因为有时候特征是有实际意义的，统计意义上的异常值可能并不影响结果。\n",
    "\n",
    "如果实在不确定是否要修改异常值，可以根据模型结果来判断，如果修改异常值模型结果变好就修改。"
   ]
  },
  {
   "cell_type": "code",
   "execution_count": 7,
   "id": "99c03dd2",
   "metadata": {},
   "outputs": [
    {
     "data": {
      "text/html": [
       "<div>\n",
       "<style scoped>\n",
       "    .dataframe tbody tr th:only-of-type {\n",
       "        vertical-align: middle;\n",
       "    }\n",
       "\n",
       "    .dataframe tbody tr th {\n",
       "        vertical-align: top;\n",
       "    }\n",
       "\n",
       "    .dataframe thead th {\n",
       "        text-align: right;\n",
       "    }\n",
       "</style>\n",
       "<table border=\"1\" class=\"dataframe\">\n",
       "  <thead>\n",
       "    <tr style=\"text-align: right;\">\n",
       "      <th></th>\n",
       "      <th>骑行量</th>\n",
       "      <th>白人人口比例</th>\n",
       "      <th>黑人人口比例</th>\n",
       "      <th>亚裔人口比例</th>\n",
       "      <th>无车人口比例</th>\n",
       "      <th>有车人口比例</th>\n",
       "      <th>人口密度</th>\n",
       "      <th>家庭收入中位数</th>\n",
       "      <th>劳动力人口比例</th>\n",
       "    </tr>\n",
       "  </thead>\n",
       "  <tbody>\n",
       "    <tr>\n",
       "      <th>0</th>\n",
       "      <td>5903.0</td>\n",
       "      <td>0.105828</td>\n",
       "      <td>0.651002</td>\n",
       "      <td>0.145501</td>\n",
       "      <td>0.198881</td>\n",
       "      <td>0.273846</td>\n",
       "      <td>0.466258</td>\n",
       "      <td>69397.59036</td>\n",
       "      <td>0.574797</td>\n",
       "    </tr>\n",
       "    <tr>\n",
       "      <th>1</th>\n",
       "      <td>405.0</td>\n",
       "      <td>0.044027</td>\n",
       "      <td>0.866628</td>\n",
       "      <td>0.016349</td>\n",
       "      <td>0.153592</td>\n",
       "      <td>0.297290</td>\n",
       "      <td>0.412263</td>\n",
       "      <td>48793.10345</td>\n",
       "      <td>0.480455</td>\n",
       "    </tr>\n",
       "    <tr>\n",
       "      <th>2</th>\n",
       "      <td>19365.5</td>\n",
       "      <td>0.050260</td>\n",
       "      <td>0.866099</td>\n",
       "      <td>0.004658</td>\n",
       "      <td>0.313969</td>\n",
       "      <td>0.204672</td>\n",
       "      <td>0.112067</td>\n",
       "      <td>37122.66529</td>\n",
       "      <td>0.469423</td>\n",
       "    </tr>\n",
       "    <tr>\n",
       "      <th>3</th>\n",
       "      <td>50.0</td>\n",
       "      <td>0.041235</td>\n",
       "      <td>0.895686</td>\n",
       "      <td>0.007267</td>\n",
       "      <td>0.165786</td>\n",
       "      <td>0.307618</td>\n",
       "      <td>0.488096</td>\n",
       "      <td>71951.49017</td>\n",
       "      <td>0.499394</td>\n",
       "    </tr>\n",
       "    <tr>\n",
       "      <th>4</th>\n",
       "      <td>474.0</td>\n",
       "      <td>0.209159</td>\n",
       "      <td>0.660138</td>\n",
       "      <td>0.060149</td>\n",
       "      <td>0.174438</td>\n",
       "      <td>0.372746</td>\n",
       "      <td>0.618195</td>\n",
       "      <td>37484.19389</td>\n",
       "      <td>0.431496</td>\n",
       "    </tr>\n",
       "    <tr>\n",
       "      <th>...</th>\n",
       "      <td>...</td>\n",
       "      <td>...</td>\n",
       "      <td>...</td>\n",
       "      <td>...</td>\n",
       "      <td>...</td>\n",
       "      <td>...</td>\n",
       "      <td>...</td>\n",
       "      <td>...</td>\n",
       "      <td>...</td>\n",
       "    </tr>\n",
       "    <tr>\n",
       "      <th>72</th>\n",
       "      <td>231.5</td>\n",
       "      <td>0.811412</td>\n",
       "      <td>0.032325</td>\n",
       "      <td>0.016083</td>\n",
       "      <td>0.018100</td>\n",
       "      <td>0.350531</td>\n",
       "      <td>0.249258</td>\n",
       "      <td>54757.83476</td>\n",
       "      <td>0.480163</td>\n",
       "    </tr>\n",
       "    <tr>\n",
       "      <th>73</th>\n",
       "      <td>201.0</td>\n",
       "      <td>0.304030</td>\n",
       "      <td>0.614019</td>\n",
       "      <td>0.004188</td>\n",
       "      <td>0.048454</td>\n",
       "      <td>0.342511</td>\n",
       "      <td>0.223494</td>\n",
       "      <td>46380.45541</td>\n",
       "      <td>0.498301</td>\n",
       "    </tr>\n",
       "    <tr>\n",
       "      <th>74</th>\n",
       "      <td>7670.5</td>\n",
       "      <td>0.674542</td>\n",
       "      <td>0.066084</td>\n",
       "      <td>0.155517</td>\n",
       "      <td>0.044936</td>\n",
       "      <td>0.443514</td>\n",
       "      <td>0.036301</td>\n",
       "      <td>57937.30032</td>\n",
       "      <td>0.494509</td>\n",
       "    </tr>\n",
       "    <tr>\n",
       "      <th>75</th>\n",
       "      <td>230098.0</td>\n",
       "      <td>0.535192</td>\n",
       "      <td>0.132571</td>\n",
       "      <td>0.137308</td>\n",
       "      <td>0.189972</td>\n",
       "      <td>0.302251</td>\n",
       "      <td>1.211414</td>\n",
       "      <td>112555.20910</td>\n",
       "      <td>0.734462</td>\n",
       "    </tr>\n",
       "    <tr>\n",
       "      <th>76</th>\n",
       "      <td>12145.5</td>\n",
       "      <td>0.827213</td>\n",
       "      <td>0.004181</td>\n",
       "      <td>0.025632</td>\n",
       "      <td>0.030722</td>\n",
       "      <td>0.374750</td>\n",
       "      <td>0.347765</td>\n",
       "      <td>27540.98361</td>\n",
       "      <td>0.487566</td>\n",
       "    </tr>\n",
       "  </tbody>\n",
       "</table>\n",
       "<p>77 rows × 9 columns</p>\n",
       "</div>"
      ],
      "text/plain": [
       "         骑行量    白人人口比例    黑人人口比例    亚裔人口比例    无车人口比例    有车人口比例      人口密度  \\\n",
       "0     5903.0  0.105828  0.651002  0.145501  0.198881  0.273846  0.466258   \n",
       "1      405.0  0.044027  0.866628  0.016349  0.153592  0.297290  0.412263   \n",
       "2    19365.5  0.050260  0.866099  0.004658  0.313969  0.204672  0.112067   \n",
       "3       50.0  0.041235  0.895686  0.007267  0.165786  0.307618  0.488096   \n",
       "4      474.0  0.209159  0.660138  0.060149  0.174438  0.372746  0.618195   \n",
       "..       ...       ...       ...       ...       ...       ...       ...   \n",
       "72     231.5  0.811412  0.032325  0.016083  0.018100  0.350531  0.249258   \n",
       "73     201.0  0.304030  0.614019  0.004188  0.048454  0.342511  0.223494   \n",
       "74    7670.5  0.674542  0.066084  0.155517  0.044936  0.443514  0.036301   \n",
       "75  230098.0  0.535192  0.132571  0.137308  0.189972  0.302251  1.211414   \n",
       "76   12145.5  0.827213  0.004181  0.025632  0.030722  0.374750  0.347765   \n",
       "\n",
       "         家庭收入中位数   劳动力人口比例  \n",
       "0    69397.59036  0.574797  \n",
       "1    48793.10345  0.480455  \n",
       "2    37122.66529  0.469423  \n",
       "3    71951.49017  0.499394  \n",
       "4    37484.19389  0.431496  \n",
       "..           ...       ...  \n",
       "72   54757.83476  0.480163  \n",
       "73   46380.45541  0.498301  \n",
       "74   57937.30032  0.494509  \n",
       "75  112555.20910  0.734462  \n",
       "76   27540.98361  0.487566  \n",
       "\n",
       "[77 rows x 9 columns]"
      ]
     },
     "execution_count": 7,
     "metadata": {},
     "output_type": "execute_result"
    }
   ],
   "source": [
    "temp = data.copy()\n",
    "temp"
   ]
  },
  {
   "cell_type": "markdown",
   "id": "ff6e1a98",
   "metadata": {},
   "source": [
    "### 箱线图判断异常值"
   ]
  },
  {
   "cell_type": "code",
   "execution_count": 8,
   "id": "8b0900fd",
   "metadata": {},
   "outputs": [
    {
     "data": {
      "image/png": "[encoded data removed]",
      "text/plain": [
       "<Figure size 1152x1152 with 9 Axes>"
      ]
     },
     "metadata": {
      "needs_background": "light"
     },
     "output_type": "display_data"
    }
   ],
   "source": [
    "plt.figure(figsize=(16, 16))\n",
    "# 此时需要把数值型特征提取出来，一共9个\n",
    "numeric_cols = temp.select_dtypes(include=['int64', 'float64']).columns.tolist()\n",
    "for i in range(1, len(numeric_cols)+1):\n",
    "    plt.subplot(3,3,i)\n",
    "    temp.boxplot(numeric_cols[i-1])"
   ]
  },
  {
   "cell_type": "code",
   "execution_count": 9,
   "id": "284d8125",
   "metadata": {},
   "outputs": [
    {
     "name": "stdout",
     "output_type": "stream",
     "text": [
      "特征骑行量的异常值个数为： 15\n",
      "特征白人人口比例的异常值个数为： 0\n",
      "特征黑人人口比例的异常值个数为： 0\n",
      "特征亚裔人口比例的异常值个数为： 6\n",
      "特征无车人口比例的异常值个数为： 0\n",
      "特征有车人口比例的异常值个数为： 1\n",
      "特征人口密度的异常值个数为： 4\n",
      "特征家庭收入中位数的异常值个数为： 2\n",
      "特征劳动力人口比例的异常值个数为： 2\n"
     ]
    },
    {
     "data": {
      "text/html": [
       "<div>\n",
       "<style scoped>\n",
       "    .dataframe tbody tr th:only-of-type {\n",
       "        vertical-align: middle;\n",
       "    }\n",
       "\n",
       "    .dataframe tbody tr th {\n",
       "        vertical-align: top;\n",
       "    }\n",
       "\n",
       "    .dataframe thead th {\n",
       "        text-align: right;\n",
       "    }\n",
       "</style>\n",
       "<table border=\"1\" class=\"dataframe\">\n",
       "  <thead>\n",
       "    <tr style=\"text-align: right;\">\n",
       "      <th></th>\n",
       "      <th>骑行量</th>\n",
       "      <th>白人人口比例</th>\n",
       "      <th>黑人人口比例</th>\n",
       "      <th>亚裔人口比例</th>\n",
       "      <th>无车人口比例</th>\n",
       "      <th>有车人口比例</th>\n",
       "      <th>人口密度</th>\n",
       "      <th>家庭收入中位数</th>\n",
       "      <th>劳动力人口比例</th>\n",
       "    </tr>\n",
       "  </thead>\n",
       "  <tbody>\n",
       "    <tr>\n",
       "      <th>0</th>\n",
       "      <td>5903.0</td>\n",
       "      <td>0.105828</td>\n",
       "      <td>0.651002</td>\n",
       "      <td>0.145501</td>\n",
       "      <td>0.198881</td>\n",
       "      <td>0.273846</td>\n",
       "      <td>0.466258</td>\n",
       "      <td>69397.59036</td>\n",
       "      <td>0.574797</td>\n",
       "    </tr>\n",
       "    <tr>\n",
       "      <th>1</th>\n",
       "      <td>405.0</td>\n",
       "      <td>0.044027</td>\n",
       "      <td>0.866628</td>\n",
       "      <td>0.016349</td>\n",
       "      <td>0.153592</td>\n",
       "      <td>0.297290</td>\n",
       "      <td>0.412263</td>\n",
       "      <td>48793.10345</td>\n",
       "      <td>0.480455</td>\n",
       "    </tr>\n",
       "    <tr>\n",
       "      <th>2</th>\n",
       "      <td>19365.5</td>\n",
       "      <td>0.050260</td>\n",
       "      <td>0.866099</td>\n",
       "      <td>0.004658</td>\n",
       "      <td>0.313969</td>\n",
       "      <td>0.204672</td>\n",
       "      <td>0.112067</td>\n",
       "      <td>37122.66529</td>\n",
       "      <td>0.469423</td>\n",
       "    </tr>\n",
       "    <tr>\n",
       "      <th>3</th>\n",
       "      <td>50.0</td>\n",
       "      <td>0.041235</td>\n",
       "      <td>0.895686</td>\n",
       "      <td>0.007267</td>\n",
       "      <td>0.165786</td>\n",
       "      <td>0.307618</td>\n",
       "      <td>0.488096</td>\n",
       "      <td>71951.49017</td>\n",
       "      <td>0.499394</td>\n",
       "    </tr>\n",
       "    <tr>\n",
       "      <th>4</th>\n",
       "      <td>474.0</td>\n",
       "      <td>0.209159</td>\n",
       "      <td>0.660138</td>\n",
       "      <td>0.060149</td>\n",
       "      <td>0.174438</td>\n",
       "      <td>0.372746</td>\n",
       "      <td>0.618195</td>\n",
       "      <td>37484.19389</td>\n",
       "      <td>0.431496</td>\n",
       "    </tr>\n",
       "    <tr>\n",
       "      <th>...</th>\n",
       "      <td>...</td>\n",
       "      <td>...</td>\n",
       "      <td>...</td>\n",
       "      <td>...</td>\n",
       "      <td>...</td>\n",
       "      <td>...</td>\n",
       "      <td>...</td>\n",
       "      <td>...</td>\n",
       "      <td>...</td>\n",
       "    </tr>\n",
       "    <tr>\n",
       "      <th>72</th>\n",
       "      <td>231.5</td>\n",
       "      <td>0.811412</td>\n",
       "      <td>0.032325</td>\n",
       "      <td>0.016083</td>\n",
       "      <td>0.018100</td>\n",
       "      <td>0.350531</td>\n",
       "      <td>0.249258</td>\n",
       "      <td>54757.83476</td>\n",
       "      <td>0.480163</td>\n",
       "    </tr>\n",
       "    <tr>\n",
       "      <th>73</th>\n",
       "      <td>201.0</td>\n",
       "      <td>0.304030</td>\n",
       "      <td>0.614019</td>\n",
       "      <td>0.004188</td>\n",
       "      <td>0.048454</td>\n",
       "      <td>0.342511</td>\n",
       "      <td>0.223494</td>\n",
       "      <td>46380.45541</td>\n",
       "      <td>0.498301</td>\n",
       "    </tr>\n",
       "    <tr>\n",
       "      <th>74</th>\n",
       "      <td>7670.5</td>\n",
       "      <td>0.674542</td>\n",
       "      <td>0.066084</td>\n",
       "      <td>0.155517</td>\n",
       "      <td>0.044936</td>\n",
       "      <td>0.443514</td>\n",
       "      <td>0.036301</td>\n",
       "      <td>57937.30032</td>\n",
       "      <td>0.494509</td>\n",
       "    </tr>\n",
       "    <tr>\n",
       "      <th>75</th>\n",
       "      <td>NaN</td>\n",
       "      <td>0.535192</td>\n",
       "      <td>0.132571</td>\n",
       "      <td>0.137308</td>\n",
       "      <td>0.189972</td>\n",
       "      <td>0.302251</td>\n",
       "      <td>NaN</td>\n",
       "      <td>112555.20910</td>\n",
       "      <td>NaN</td>\n",
       "    </tr>\n",
       "    <tr>\n",
       "      <th>76</th>\n",
       "      <td>12145.5</td>\n",
       "      <td>0.827213</td>\n",
       "      <td>0.004181</td>\n",
       "      <td>0.025632</td>\n",
       "      <td>0.030722</td>\n",
       "      <td>0.374750</td>\n",
       "      <td>0.347765</td>\n",
       "      <td>27540.98361</td>\n",
       "      <td>0.487566</td>\n",
       "    </tr>\n",
       "  </tbody>\n",
       "</table>\n",
       "<p>77 rows × 9 columns</p>\n",
       "</div>"
      ],
      "text/plain": [
       "        骑行量    白人人口比例    黑人人口比例    亚裔人口比例    无车人口比例    有车人口比例      人口密度  \\\n",
       "0    5903.0  0.105828  0.651002  0.145501  0.198881  0.273846  0.466258   \n",
       "1     405.0  0.044027  0.866628  0.016349  0.153592  0.297290  0.412263   \n",
       "2   19365.5  0.050260  0.866099  0.004658  0.313969  0.204672  0.112067   \n",
       "3      50.0  0.041235  0.895686  0.007267  0.165786  0.307618  0.488096   \n",
       "4     474.0  0.209159  0.660138  0.060149  0.174438  0.372746  0.618195   \n",
       "..      ...       ...       ...       ...       ...       ...       ...   \n",
       "72    231.5  0.811412  0.032325  0.016083  0.018100  0.350531  0.249258   \n",
       "73    201.0  0.304030  0.614019  0.004188  0.048454  0.342511  0.223494   \n",
       "74   7670.5  0.674542  0.066084  0.155517  0.044936  0.443514  0.036301   \n",
       "75      NaN  0.535192  0.132571  0.137308  0.189972  0.302251       NaN   \n",
       "76  12145.5  0.827213  0.004181  0.025632  0.030722  0.374750  0.347765   \n",
       "\n",
       "         家庭收入中位数   劳动力人口比例  \n",
       "0    69397.59036  0.574797  \n",
       "1    48793.10345  0.480455  \n",
       "2    37122.66529  0.469423  \n",
       "3    71951.49017  0.499394  \n",
       "4    37484.19389  0.431496  \n",
       "..           ...       ...  \n",
       "72   54757.83476  0.480163  \n",
       "73   46380.45541  0.498301  \n",
       "74   57937.30032  0.494509  \n",
       "75  112555.20910       NaN  \n",
       "76   27540.98361  0.487566  \n",
       "\n",
       "[77 rows x 9 columns]"
      ]
     },
     "execution_count": 9,
     "metadata": {},
     "output_type": "execute_result"
    }
   ],
   "source": [
    "# 利用箱线图分析时，异常值通常被定义为小于QL-1.5*IQR或大于QU+1.5IQR（QL指下四分位数，QU指上四分位数，IQR指QU-QL）。\n",
    "# 把异常值赋值为nan，然后就可以按照缺失值删除处理。\n",
    "temp1 = temp.copy()\n",
    "temp1\n",
    "\n",
    "def outRange(Seri):\n",
    "    QL = Seri.quantile(0.25)\n",
    "    QU = Seri.quantile(0.75)\n",
    "    IQR = QU-QL\n",
    "    Seri[(Seri < QL-1.5*IQR) | (Seri > QU+1.5*IQR)] = np.nan\n",
    "    return Seri\n",
    "for i in numeric_cols:\n",
    "    # 这是否真的是异常值还要结合现实情况进行分析\n",
    "    print(f'特征{i}的异常值个数为：', outRange(temp1[i]).isnull().sum())\n",
    "\n",
    "# 之所以又copytemp为temp1，是因为不copy话运行上述代码temp会改变\n",
    "temp1"
   ]
  },
  {
   "cell_type": "markdown",
   "id": "be8f14c7",
   "metadata": {},
   "source": [
    "### 判断完异常值用四分位数进行替换"
   ]
  },
  {
   "cell_type": "code",
   "execution_count": 10,
   "id": "2ac0678a",
   "metadata": {},
   "outputs": [
    {
     "data": {
      "text/html": [
       "<div>\n",
       "<style scoped>\n",
       "    .dataframe tbody tr th:only-of-type {\n",
       "        vertical-align: middle;\n",
       "    }\n",
       "\n",
       "    .dataframe tbody tr th {\n",
       "        vertical-align: top;\n",
       "    }\n",
       "\n",
       "    .dataframe thead th {\n",
       "        text-align: right;\n",
       "    }\n",
       "</style>\n",
       "<table border=\"1\" class=\"dataframe\">\n",
       "  <thead>\n",
       "    <tr style=\"text-align: right;\">\n",
       "      <th></th>\n",
       "      <th>骑行量</th>\n",
       "      <th>白人人口比例</th>\n",
       "      <th>黑人人口比例</th>\n",
       "      <th>亚裔人口比例</th>\n",
       "      <th>无车人口比例</th>\n",
       "      <th>有车人口比例</th>\n",
       "      <th>人口密度</th>\n",
       "      <th>家庭收入中位数</th>\n",
       "      <th>劳动力人口比例</th>\n",
       "    </tr>\n",
       "  </thead>\n",
       "  <tbody>\n",
       "    <tr>\n",
       "      <th>0</th>\n",
       "      <td>5903.0</td>\n",
       "      <td>0.105828</td>\n",
       "      <td>0.651002</td>\n",
       "      <td>0.145501</td>\n",
       "      <td>0.198881</td>\n",
       "      <td>0.273846</td>\n",
       "      <td>0.466258</td>\n",
       "      <td>69397.59036</td>\n",
       "      <td>0.574797</td>\n",
       "    </tr>\n",
       "    <tr>\n",
       "      <th>1</th>\n",
       "      <td>405.0</td>\n",
       "      <td>0.044027</td>\n",
       "      <td>0.866628</td>\n",
       "      <td>0.016349</td>\n",
       "      <td>0.153592</td>\n",
       "      <td>0.297290</td>\n",
       "      <td>0.412263</td>\n",
       "      <td>48793.10345</td>\n",
       "      <td>0.480455</td>\n",
       "    </tr>\n",
       "    <tr>\n",
       "      <th>2</th>\n",
       "      <td>19365.5</td>\n",
       "      <td>0.050260</td>\n",
       "      <td>0.866099</td>\n",
       "      <td>0.004658</td>\n",
       "      <td>0.313969</td>\n",
       "      <td>0.204672</td>\n",
       "      <td>0.112067</td>\n",
       "      <td>37122.66529</td>\n",
       "      <td>0.469423</td>\n",
       "    </tr>\n",
       "    <tr>\n",
       "      <th>3</th>\n",
       "      <td>50.0</td>\n",
       "      <td>0.041235</td>\n",
       "      <td>0.895686</td>\n",
       "      <td>0.007267</td>\n",
       "      <td>0.165786</td>\n",
       "      <td>0.307618</td>\n",
       "      <td>0.488096</td>\n",
       "      <td>71951.49017</td>\n",
       "      <td>0.499394</td>\n",
       "    </tr>\n",
       "    <tr>\n",
       "      <th>4</th>\n",
       "      <td>474.0</td>\n",
       "      <td>0.209159</td>\n",
       "      <td>0.660138</td>\n",
       "      <td>0.060149</td>\n",
       "      <td>0.174438</td>\n",
       "      <td>0.372746</td>\n",
       "      <td>0.618195</td>\n",
       "      <td>37484.19389</td>\n",
       "      <td>0.431496</td>\n",
       "    </tr>\n",
       "    <tr>\n",
       "      <th>...</th>\n",
       "      <td>...</td>\n",
       "      <td>...</td>\n",
       "      <td>...</td>\n",
       "      <td>...</td>\n",
       "      <td>...</td>\n",
       "      <td>...</td>\n",
       "      <td>...</td>\n",
       "      <td>...</td>\n",
       "      <td>...</td>\n",
       "    </tr>\n",
       "    <tr>\n",
       "      <th>72</th>\n",
       "      <td>231.5</td>\n",
       "      <td>0.811412</td>\n",
       "      <td>0.032325</td>\n",
       "      <td>0.016083</td>\n",
       "      <td>0.018100</td>\n",
       "      <td>0.350531</td>\n",
       "      <td>0.249258</td>\n",
       "      <td>54757.83476</td>\n",
       "      <td>0.480163</td>\n",
       "    </tr>\n",
       "    <tr>\n",
       "      <th>73</th>\n",
       "      <td>201.0</td>\n",
       "      <td>0.304030</td>\n",
       "      <td>0.614019</td>\n",
       "      <td>0.004188</td>\n",
       "      <td>0.048454</td>\n",
       "      <td>0.342511</td>\n",
       "      <td>0.223494</td>\n",
       "      <td>46380.45541</td>\n",
       "      <td>0.498301</td>\n",
       "    </tr>\n",
       "    <tr>\n",
       "      <th>74</th>\n",
       "      <td>7670.5</td>\n",
       "      <td>0.674542</td>\n",
       "      <td>0.066084</td>\n",
       "      <td>0.155517</td>\n",
       "      <td>0.044936</td>\n",
       "      <td>0.443514</td>\n",
       "      <td>0.036301</td>\n",
       "      <td>57937.30032</td>\n",
       "      <td>0.494509</td>\n",
       "    </tr>\n",
       "    <tr>\n",
       "      <th>75</th>\n",
       "      <td>12145.5</td>\n",
       "      <td>0.535192</td>\n",
       "      <td>0.132571</td>\n",
       "      <td>0.137308</td>\n",
       "      <td>0.189972</td>\n",
       "      <td>0.302251</td>\n",
       "      <td>0.580048</td>\n",
       "      <td>112555.20910</td>\n",
       "      <td>0.568477</td>\n",
       "    </tr>\n",
       "    <tr>\n",
       "      <th>76</th>\n",
       "      <td>12145.5</td>\n",
       "      <td>0.827213</td>\n",
       "      <td>0.004181</td>\n",
       "      <td>0.025632</td>\n",
       "      <td>0.030722</td>\n",
       "      <td>0.374750</td>\n",
       "      <td>0.347765</td>\n",
       "      <td>27540.98361</td>\n",
       "      <td>0.487566</td>\n",
       "    </tr>\n",
       "  </tbody>\n",
       "</table>\n",
       "<p>77 rows × 9 columns</p>\n",
       "</div>"
      ],
      "text/plain": [
       "        骑行量    白人人口比例    黑人人口比例    亚裔人口比例    无车人口比例    有车人口比例      人口密度  \\\n",
       "0    5903.0  0.105828  0.651002  0.145501  0.198881  0.273846  0.466258   \n",
       "1     405.0  0.044027  0.866628  0.016349  0.153592  0.297290  0.412263   \n",
       "2   19365.5  0.050260  0.866099  0.004658  0.313969  0.204672  0.112067   \n",
       "3      50.0  0.041235  0.895686  0.007267  0.165786  0.307618  0.488096   \n",
       "4     474.0  0.209159  0.660138  0.060149  0.174438  0.372746  0.618195   \n",
       "..      ...       ...       ...       ...       ...       ...       ...   \n",
       "72    231.5  0.811412  0.032325  0.016083  0.018100  0.350531  0.249258   \n",
       "73    201.0  0.304030  0.614019  0.004188  0.048454  0.342511  0.223494   \n",
       "74   7670.5  0.674542  0.066084  0.155517  0.044936  0.443514  0.036301   \n",
       "75  12145.5  0.535192  0.132571  0.137308  0.189972  0.302251  0.580048   \n",
       "76  12145.5  0.827213  0.004181  0.025632  0.030722  0.374750  0.347765   \n",
       "\n",
       "         家庭收入中位数   劳动力人口比例  \n",
       "0    69397.59036  0.574797  \n",
       "1    48793.10345  0.480455  \n",
       "2    37122.66529  0.469423  \n",
       "3    71951.49017  0.499394  \n",
       "4    37484.19389  0.431496  \n",
       "..           ...       ...  \n",
       "72   54757.83476  0.480163  \n",
       "73   46380.45541  0.498301  \n",
       "74   57937.30032  0.494509  \n",
       "75  112555.20910  0.568477  \n",
       "76   27540.98361  0.487566  \n",
       "\n",
       "[77 rows x 9 columns]"
      ]
     },
     "execution_count": 10,
     "metadata": {},
     "output_type": "execute_result"
    }
   ],
   "source": [
    "def outRange(Seri):\n",
    "    QL = Seri.quantile(0.25)\n",
    "    QU = Seri.quantile(0.75)\n",
    "    IQR = QU-QL\n",
    "    Seri.loc[Seri < QL-1.5*IQR] = QL\n",
    "    Seri.loc[Seri > QU+1.5*IQR] = QU\n",
    "    return Seri\n",
    "for i in numeric_cols:\n",
    "    temp[i] = outRange(temp[i])\n",
    "temp"
   ]
  },
  {
   "cell_type": "markdown",
   "id": "26ea6c6a",
   "metadata": {},
   "source": [
    "&emsp;&emsp;**这样data就是没对异常值进行处理，temp是对异常值处理，后续以temp建模。**"
   ]
  },
  {
   "cell_type": "markdown",
   "id": "0a110eb0",
   "metadata": {},
   "source": [
    "# 特征工程"
   ]
  },
  {
   "cell_type": "markdown",
   "id": "136570b3",
   "metadata": {},
   "source": [
    "## 相关性分析(相关性不大，都留着）"
   ]
  },
  {
   "cell_type": "code",
   "execution_count": 11,
   "id": "27f2615d",
   "metadata": {},
   "outputs": [
    {
     "data": {
      "image/png": "[encoded data removed]",
      "text/plain": [
       "<Figure size 720x576 with 2 Axes>"
      ]
     },
     "metadata": {
      "needs_background": "light"
     },
     "output_type": "display_data"
    }
   ],
   "source": [
    "# 计算皮尔逊相关系数  \n",
    "corrcoef = temp.corr()  \n",
    "  \n",
    "# 可视化相关系数  \n",
    "plt.figure(figsize=(10, 8))  \n",
    "sns.heatmap(corrcoef, annot=True)  \n",
    "plt.xticks(rotation=45)  \n",
    "plt.show()"
   ]
  },
  {
   "cell_type": "markdown",
   "id": "9c454ce9",
   "metadata": {},
   "source": [
    "## 主成分分析"
   ]
  },
  {
   "cell_type": "code",
   "execution_count": 12,
   "id": "72c20fae",
   "metadata": {},
   "outputs": [
    {
     "name": "stdout",
     "output_type": "stream",
     "text": [
      "前6个主成分的贡献度之和为： 0.9505070663641575\n",
      "前6个主成分的贡献度为： [0.35088895 0.22371742 0.16314296 0.10571649 0.06601857 0.04102268]\n"
     ]
    }
   ],
   "source": [
    "X = temp[['白人人口比例', '黑人人口比例', '亚裔人口比例', '无车人口比例', '有车人口比例', '人口密度',\n",
    "       '家庭收入中位数', '劳动力人口比例']]\n",
    "y = temp['骑行量']\n",
    "scaler = StandardScaler()  \n",
    "df_scaled = pd.DataFrame(scaler.fit_transform(X), columns=X.columns) \n",
    "pca = PCA(n_components=6)\n",
    "pca.fit_transform(df_scaled)\n",
    "# 通过属性components_可以查看主成分\n",
    "# pca.components_.T[:, 0]\n",
    "# 通过可解释方差比衡量差异性贡献度\n",
    "print('前6个主成分的贡献度之和为：', sum(pca.explained_variance_ratio_))\n",
    "print('前6个主成分的贡献度为：', pca.explained_variance_ratio_)"
   ]
  },
  {
   "cell_type": "code",
   "execution_count": 13,
   "id": "d2e742ed",
   "metadata": {},
   "outputs": [
    {
     "data": {
      "text/plain": [
       "Text(0.5, 1.0, '主成分贡献度')"
      ]
     },
     "execution_count": 13,
     "metadata": {},
     "output_type": "execute_result"
    },
    {
     "data": {
      "image/png": "[encoded data removed]",
      "text/plain": [
       "<Figure size 864x288 with 1 Axes>"
      ]
     },
     "metadata": {
      "needs_background": "light"
     },
     "output_type": "display_data"
    }
   ],
   "source": [
    "# 创建自定义颜色映射  \n",
    "np.random.seed(0)\n",
    "colors = [(np.random.random(), np.random.random(), np.random.random()) for _ in range(6)]  \n",
    "cmap = LinearSegmentedColormap.from_list('random_cmap', colors)  \n",
    "\n",
    "plt.figure(figsize=(12, 4))  \n",
    "plt.title(\"Feature importances\")  \n",
    "plt.bar(range(1, 1+len(pca.explained_variance_ratio_)), pca.explained_variance_ratio_, color=cmap(np.arange(X.shape[1])), align=\"center\") \n",
    "plt.plot(range(1, 1+len(pca.explained_variance_ratio_)), pca.explained_variance_ratio_,'r')\n",
    "plt.xlabel('主成分编号')\n",
    "plt.ylabel('贡献度')\n",
    "plt.title('主成分贡献度')"
   ]
  },
  {
   "cell_type": "markdown",
   "id": "f61f0f70",
   "metadata": {},
   "source": [
    "# 划分训练集和测试集"
   ]
  },
  {
   "cell_type": "code",
   "execution_count": 14,
   "id": "735968b7",
   "metadata": {},
   "outputs": [],
   "source": [
    "x_train, x_test, y_train, y_test = train_test_split(\n",
    "    df_scaled, y, test_size=0.2, random_state=2\n",
    ")"
   ]
  },
  {
   "cell_type": "markdown",
   "id": "15255149",
   "metadata": {},
   "source": [
    "# 回归模型"
   ]
  },
  {
   "cell_type": "markdown",
   "id": "dae3b33b",
   "metadata": {},
   "source": [
    "## 线性回归"
   ]
  },
  {
   "cell_type": "code",
   "execution_count": 15,
   "id": "9230f578",
   "metadata": {},
   "outputs": [
    {
     "name": "stdout",
     "output_type": "stream",
     "text": [
      "LR测试集结果为： [ 3597.51925704  7866.77102946  5533.04141232  6961.54563716\n",
      "  -189.95783757   380.11208806  -444.07495641  4435.74131666\n",
      " -1503.91443426  6372.96934984  6445.67197574 10164.65260403\n",
      "  2108.65277449  8498.27229682  6554.32342409   653.886392  ]\n",
      "训练集均方误差为： 27695994.24273212\n",
      "测试集均方误差为： 25516858.33737707\n",
      "回归系数，偏置项为： [-1575.75834282 -1608.85988885   640.39917564  1878.54023226\n",
      "  -122.10996845 -1451.60830349  1108.77927652  1437.17073644] 5024.48977051262\n"
     ]
    }
   ],
   "source": [
    "model = LinearRegression()\n",
    "model.fit(x_train, y_train)\n",
    "y_pred= model.predict(x_test)\n",
    "print('LR测试集结果为：', y_pred)\n",
    "print('训练集均方误差为：', mean_squared_error(y_train, model.predict(x_train)))\n",
    "print('测试集均方误差为：', mean_squared_error(y_test, y_pred))\n",
    "print('回归系数，偏置项为：', model.coef_, model.intercept_)"
   ]
  },
  {
   "cell_type": "markdown",
   "id": "36a8c4b1",
   "metadata": {},
   "source": [
    "## 岭回归"
   ]
  },
  {
   "cell_type": "code",
   "execution_count": 16,
   "id": "0c45c7ca",
   "metadata": {
    "scrolled": true
   },
   "outputs": [
    {
     "name": "stdout",
     "output_type": "stream",
     "text": [
      "岭回归测试集结果为： [4648.06626418 7580.59768568 5023.13530788 5338.34826912 2577.71663617\n",
      " 1797.66361017 1524.52658205 5060.52007462  969.28253467 4816.08064399\n",
      " 6250.0614465  8915.23181459 3665.05259183 6495.23428464 5732.7434147\n",
      " 2181.43774703]\n",
      "训练集均方误差为： 29196796.839486096\n",
      "测试集均方误差为： 20640718.987079076\n",
      "回归系数，偏置项为： [-436.28041462   -2.62004685  468.76156783  801.63438411 -326.76792673\n",
      " -590.89486874  787.45169939 1033.16301455] 5091.249336465151\n"
     ]
    }
   ],
   "source": [
    "model = Ridge(random_state=42)\n",
    "param_grid = [{'alpha':np.arange(0, 100, 0.1)}]\n",
    "grid_search = GridSearchCV(model, param_grid, cv=5, scoring='neg_mean_squared_error', return_train_score=True)\n",
    "grid_search.fit(x_train, y_train)\n",
    "\n",
    "model = Ridge(alpha=grid_search.best_params_['alpha'], random_state=42)\n",
    "model.fit(x_train, y_train)\n",
    "y_pred= model.predict(x_test)\n",
    "print('岭回归测试集结果为：', y_pred)\n",
    "print('训练集均方误差为：', mean_squared_error(y_train, model.predict(x_train)))\n",
    "print('测试集均方误差为：', mean_squared_error(y_test, y_pred))\n",
    "print('回归系数，偏置项为：', model.coef_, model.intercept_)"
   ]
  },
  {
   "cell_type": "markdown",
   "id": "2f3c125a",
   "metadata": {},
   "source": [
    "## lasso回归"
   ]
  },
  {
   "cell_type": "code",
   "execution_count": 17,
   "id": "135c0af7",
   "metadata": {},
   "outputs": [
    {
     "name": "stdout",
     "output_type": "stream",
     "text": [
      "lasso回归测试集结果为： [ 4049.17517211  7869.98905573  5188.38584305  6353.03947296\n",
      "   795.62763845   624.6055068    360.76721186  4714.24274313\n",
      "  -656.0863706   5683.67853997  6544.63247397 10224.98819404\n",
      "  2532.84516224  7887.97688848  6177.77089124  1043.5946647 ]\n",
      "训练集均方误差为： 27900688.858032838\n",
      "测试集均方误差为： 23551995.89996486\n",
      "回归系数，偏置项为： [-1015.21260168  -847.7403106    583.99588646  1495.54487231\n",
      "  -225.68658195 -1135.97675415   937.08614629  1432.8432127 ] 5049.94458556\n"
     ]
    }
   ],
   "source": [
    "model = Lasso(random_state=4)\n",
    "\n",
    "param_grid = [{'alpha':np.arange(0, 100, 0.1)}]\n",
    "grid_search = GridSearchCV(model, param_grid, cv=5, scoring='neg_mean_squared_error', return_train_score=True)\n",
    "grid_search.fit(x_train, y_train)\n",
    "\n",
    "model = Lasso(alpha=grid_search.best_params_['alpha'], random_state=42)\n",
    "model.fit(x_train, y_train)\n",
    "y_pred= model.predict(x_test)\n",
    "print('lasso回归测试集结果为：', y_pred)\n",
    "print('训练集均方误差为：', mean_squared_error(y_train, model.predict(x_train)))\n",
    "print('测试集均方误差为：', mean_squared_error(y_test, y_pred))\n",
    "print('回归系数，偏置项为：', model.coef_, model.intercept_)"
   ]
  },
  {
   "cell_type": "markdown",
   "id": "cccfa96a",
   "metadata": {},
   "source": [
    "## 支持向量机回归\n",
    "\n",
    "不同核函数:\n",
    "如何选择适合您的数据集的最佳核函数完全取决于您实际解决的问题。如果您的数据能够被线性分割，那么毫无疑问，选择线性核函\n",
    "数是一个不错的选择，因为它需要更少的训练时间，并在文本分类等大型数据集处理方面表现出色。另一方面，当数据缺乏额外信息\n",
    "或不可用时，高斯核函数通常能够提供出色的结果。RBF核函数也是高斯核函数的一种，它通过将高维数据映射后，在其中寻找线性分\n",
    "割。对于已经归一化的所有训练数据，多项式核函数通常能够产生出色的结果。"
   ]
  },
  {
   "cell_type": "code",
   "execution_count": 18,
   "id": "67cfef78",
   "metadata": {},
   "outputs": [
    {
     "name": "stdout",
     "output_type": "stream",
     "text": [
      "SVM测试集结果为： [1499.90393074 1526.66273764 1490.19584593 1499.70121439 1488.85640108\n",
      " 1479.69998989 1478.74221447 1503.17728112 1478.50069453 1488.81734582\n",
      " 1515.9692127  1531.83251182 1507.69351941 1519.99162314 1507.59200262\n",
      " 1479.67591991]\n",
      "训练集均方误差为： 51301999.80545702\n",
      "测试集均方误差为： 11726771.252454206\n"
     ]
    }
   ],
   "source": [
    "model = SVR()\n",
    "param_grid = [{'C':np.arange(0.1, 10, 0.1)}]\n",
    "# cv表示交叉验证的次数，scoring表示评价指标，分类可以选'accuracy'，'precision'，'recall'，'f1'，'roc_auc'，回归选neg_mean_squared_error\n",
    "grid_search = GridSearchCV(model, param_grid, cv=5, scoring='neg_mean_squared_error', return_train_score=True)\n",
    "grid_search.fit(x_train, y_train)\n",
    "\n",
    "model = SVR(C=grid_search.best_params_['C'])\n",
    "model.fit(x_train, y_train)\n",
    "y_pred= model.predict(x_test)\n",
    "print('SVM测试集结果为：', y_pred)\n",
    "print('训练集均方误差为：', mean_squared_error(y_train, model.predict(x_train)))\n",
    "print('测试集均方误差为：', mean_squared_error(y_test, y_pred))"
   ]
  },
  {
   "cell_type": "markdown",
   "id": "4342e156",
   "metadata": {},
   "source": [
    "## 决策树回归"
   ]
  },
  {
   "cell_type": "code",
   "execution_count": 19,
   "id": "b4d7e0d8",
   "metadata": {},
   "outputs": [
    {
     "name": "stdout",
     "output_type": "stream",
     "text": [
      "DT测试集结果为： [ 3871.32        3871.32        3871.32       11444.04545455\n",
      "  3871.32        3871.32        3871.32        3871.32\n",
      "  3871.32        3871.32        3871.32       11444.04545455\n",
      "  3871.32        3871.32        3871.32        3871.32      ]\n",
      "训练集均方误差为： 29051094.764053654\n",
      "测试集均方误差为： 22276466.521619625\n"
     ]
    }
   ],
   "source": [
    "model = DecisionTreeRegressor(random_state=42)  \n",
    "param_grid = [{'max_depth':np.arange(1, 10, 1)}]\n",
    "# cv表示交叉验证的次数，scoring表示评价指标，分类可以选'accuracy'，'precision'，'recall'，'f1'，'roc_auc'，回归选neg_mean_squared_error\n",
    "grid_search = GridSearchCV(model, param_grid, cv=5, scoring='neg_mean_squared_error', return_train_score=True)\n",
    "grid_search.fit(x_train, y_train)\n",
    "\n",
    "model = DecisionTreeRegressor(max_depth=grid_search.best_params_['max_depth'], random_state=42)  \n",
    "model.fit(x_train, y_train)\n",
    "y_pred= model.predict(x_test)\n",
    "print('DT测试集结果为：', y_pred)\n",
    "print('训练集均方误差为：', mean_squared_error(y_train, model.predict(x_train)))\n",
    "print('测试集均方误差为：', mean_squared_error(y_test, y_pred))"
   ]
  },
  {
   "cell_type": "markdown",
   "id": "0f10e257",
   "metadata": {},
   "source": [
    "## XGB回归"
   ]
  },
  {
   "cell_type": "code",
   "execution_count": 20,
   "id": "fc1a54da",
   "metadata": {},
   "outputs": [
    {
     "name": "stdout",
     "output_type": "stream",
     "text": [
      "XGB测试集结果为： [5925.0947 5925.0947 4333.755  7004.1587 4333.755  4333.755  4333.755\n",
      " 4333.755  5578.254  5578.254  7132.862  7004.1587 5278.6655 6894.4556\n",
      " 4333.755  4333.755 ]\n",
      "训练集均方误差为： 27263744.140888084\n",
      "测试集均方误差为： 19550237.234697595\n"
     ]
    }
   ],
   "source": [
    "model = XGBRegressor()\n",
    "\n",
    "# 可以通过print(XGBClassifier.__doc__) 查看文档\n",
    "param_grid = [\n",
    "    {'n_estimators':[3,10,30], 'max_depth':[1,2,3,4,5], 'learning_rate':[0.001,0.003,0.01]},\n",
    "    {'bootstrap':[False],'n_estimators':[3,10], 'max_depth':[1,2,3,4,5], 'learning_rate':[0.005,0.03]}\n",
    "]\n",
    "# cv表示交叉验证的次数，scoring表示评价指标，分类可以选'accuracy'，'precision'，'recall'，'f1'，'roc_auc'，回归选neg_mean_squared_error\n",
    "grid_search = GridSearchCV(model, param_grid, cv=5, scoring='neg_mean_squared_error', return_train_score=True)\n",
    "grid_search.fit(x_train, y_train)\n",
    "\n",
    "model = XGBRegressor(n_estimators=grid_search.best_params_['n_estimators'],\n",
    "    max_depth=grid_search.best_params_['max_depth'],\n",
    "    learning_rate=grid_search.best_params_['learning_rate'])\n",
    "model.fit(x_train, y_train)\n",
    "y_pred= model.predict(x_test)\n",
    "print('XGB测试集结果为：', y_pred)\n",
    "print('训练集均方误差为：', mean_squared_error(y_train, model.predict(x_train)))\n",
    "print('测试集均方误差为：', mean_squared_error(y_test, y_pred))"
   ]
  },
  {
   "cell_type": "code",
   "execution_count": 21,
   "id": "d8efdfcc",
   "metadata": {},
   "outputs": [
    {
     "data": {
      "image/png": "[encoded data removed]",
      "text/plain": [
       "<Figure size 432x288 with 1 Axes>"
      ]
     },
     "metadata": {
      "needs_background": "light"
     },
     "output_type": "display_data"
    }
   ],
   "source": [
    "#自建函数\n",
    "def plot_feature_importances_cancer(model):\n",
    "    n_features = len(df_scaled.columns) \n",
    "    plt.barh(range(n_features), model.feature_importances_, align='center')  #条形图\n",
    "    plt.yticks(np.arange(n_features), df_scaled.columns)\n",
    "    plt.xlabel(\"Feature importance\")\n",
    "    plt.ylabel(\"Feature\")\n",
    " \n",
    " #执行函数\n",
    "plot_feature_importances_cancer(model)"
   ]
  },
  {
   "cell_type": "markdown",
   "id": "ddd3e62c",
   "metadata": {},
   "source": [
    "## 随机森林回归"
   ]
  },
  {
   "cell_type": "code",
   "execution_count": 22,
   "id": "6bddd786",
   "metadata": {},
   "outputs": [
    {
     "name": "stdout",
     "output_type": "stream",
     "text": [
      "RT测试集结果为： [ 6595.955  7657.545  2346.8    6695.08   4120.17   2272.13   3539.885\n",
      "  1816.69   3577.915  7272.225  9776.15  10504.09   4802.16   7591.45\n",
      "  5912.055  3654.035]\n",
      "训练集均方误差为： 5323142.272463935\n",
      "测试集均方误差为： 24207634.11383594\n"
     ]
    }
   ],
   "source": [
    "# 可以通过print(RandomForestClassifier.__doc__) 查看文档\n",
    "model = RandomForestRegressor(random_state=42)\n",
    "param_grid = [\n",
    "    {'n_estimators':[3,10,30], 'max_features':[2,4,6,8]},\n",
    "    {'bootstrap':[False],'n_estimators':[3,10], 'max_features':[2,3,4]}\n",
    "]\n",
    "grid_search = GridSearchCV(model, param_grid, cv=5, scoring='neg_mean_squared_error', return_train_score=True)\n",
    "grid_search.fit(x_train, y_train)\n",
    "\n",
    "model = RandomForestRegressor(n_estimators=100, random_state=123)\n",
    "model.fit(x_train, y_train)\n",
    "y_pred= model.predict(x_test)\n",
    "print('RT测试集结果为：', y_pred)\n",
    "print('训练集均方误差为：', mean_squared_error(y_train, model.predict(x_train)))\n",
    "print('测试集均方误差为：', mean_squared_error(y_test, y_pred))"
   ]
  },
  {
   "cell_type": "code",
   "execution_count": 23,
   "id": "f3612227",
   "metadata": {},
   "outputs": [
    {
     "data": {
      "image/png": "[encoded data removed]",
      "text/plain": [
       "<Figure size 432x288 with 1 Axes>"
      ]
     },
     "metadata": {
      "needs_background": "light"
     },
     "output_type": "display_data"
    }
   ],
   "source": [
    "#自建函数\n",
    "def plot_feature_importances_cancer(model):\n",
    "    n_features = len(df_scaled.columns) \n",
    "    plt.barh(range(n_features), model.feature_importances_, align='center')  #条形图\n",
    "    plt.yticks(np.arange(n_features), df_scaled.columns)\n",
    "    plt.xlabel(\"Feature importance\")\n",
    "    plt.ylabel(\"Feature\")\n",
    " \n",
    " #执行函数\n",
    "plot_feature_importances_cancer(model)"
   ]
  }
 ],
 "metadata": {
  "kernelspec": {
   "display_name": "Python 3 (ipykernel)",
   "language": "python",
   "name": "python3"
  },
  "language_info": {
   "codemirror_mode": {
    "name": "ipython",
    "version": 3
   },
   "file_extension": ".py",
   "mimetype": "text/x-python",
   "name": "python",
   "nbconvert_exporter": "python",
   "pygments_lexer": "ipython3",
   "version": "3.9.7"
  },
  "toc": {
   "base_numbering": 1,
   "nav_menu": {},
   "number_sections": true,
   "sideBar": true,
   "skip_h1_title": false,
   "title_cell": "Table of Contents",
   "title_sidebar": "Contents",
   "toc_cell": false,
   "toc_position": {
    "height": "calc(100% - 180px)",
    "left": "10px",
    "top": "150px",
    "width": "256px"
   },
   "toc_section_display": true,
   "toc_window_display": true
  },
  "varInspector": {
   "cols": {
    "lenName": 16,
    "lenType": 16,
    "lenVar": 40
   },
   "kernels_config": {
    "python": {
     "delete_cmd_postfix": "",
     "delete_cmd_prefix": "del ",
     "library": "var_list.py",
     "varRefreshCmd": "print(var_dic_list())"
    },
    "r": {
     "delete_cmd_postfix": ") ",
     "delete_cmd_prefix": "rm(",
     "library": "var_list.r",
     "varRefreshCmd": "cat(var_dic_list()) "
    }
   },
   "types_to_exclude": [
    "module",
    "function",
    "builtin_function_or_method",
    "instance",
    "_Feature"
   ],
   "window_display": false
  }
 },
 "nbformat": 4,
 "nbformat_minor": 5
}
